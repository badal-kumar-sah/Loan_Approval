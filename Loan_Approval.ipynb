{
 "cells": [
  {
   "cell_type": "markdown",
   "id": "17524986",
   "metadata": {},
   "source": [
    "## Business Problem:\n",
    "- The given datasets are for the data captured by the bank and they are looking for potential/right customer to accept or reject their loan approval request.\n",
    "- `data 2` dataset is to be used to train model keeping in mind the necessary steps that may include but not limited to: feature identification, exploratory analysis with univariate or bivariate checks, feature engineering, encoding , transformations, MV & Outlier treatment, test-train, performance statistics and prediction variance checks.\n",
    "- `data 1` is the dataset on which we have to perform prediction.\n",
    "\n",
    "> Note: We need to apply solo or ensemble from commonly used techniques such as Logit/Trees-/GB/RF and check for different accuracy metrices"
   ]
  },
  {
   "cell_type": "markdown",
   "id": "274ca988",
   "metadata": {},
   "source": [
    "### Step-by-Step Procedure\n",
    "\n",
    "I.\tExploratory data analysis\n",
    "    \n",
    "    I.1. General exploration\n",
    "\n",
    "    I.2. Numerical features\n",
    "        I.2.1. Explore and clean Numerical features\n",
    "        I.2.2. Missing data of Numerical features\n",
    "\n",
    "    I.3. Categorical features\n",
    "        I.3.1. Explore and clean Categorical features\n",
    "        I.3.2. Missing data of Categorical features\n",
    "        I.3.3. Transform Categorical features into Binary features (get_dummies)\n",
    "\n",
    "    I.4. Merge numerical and binary features into one data set\n",
    "\n",
    "II.\tFeature engineering\n",
    "\n",
    "\n",
    "III.\tModeling\n",
    "\n",
    "    III.1. Models and metrics selection\n",
    "\n",
    "    III.2. Hyperparameters tuning and model optimization\n",
    "        III.2.1. Logistic regression\n",
    "        III.2.2. DecisionTree Classifier\n",
    "        III.2.3. XGBoost Classifier\n",
    "        III.2.4. RandomForest Classifier\n",
    "\n",
    "    III.3. Choosing the best model\n",
    "\n",
    "IV. Prediction"
   ]
  },
  {
   "cell_type": "markdown",
   "id": "3b243a1c",
   "metadata": {},
   "source": [
    "# I. Exploratory Data Analysis"
   ]
  },
  {
   "cell_type": "markdown",
   "id": "ef748e85",
   "metadata": {},
   "source": [
    "## I.1. General Exploration / Data Inspection"
   ]
  },
  {
   "cell_type": "markdown",
   "id": "df958633",
   "metadata": {},
   "source": [
    "### 1.1. Importing necessary packages"
   ]
  },
  {
   "cell_type": "code",
   "execution_count": 1,
   "id": "658493c3",
   "metadata": {},
   "outputs": [],
   "source": [
    "import pandas as pd\n",
    "import numpy as np\n",
    "from datetime import datetime as dt\n",
    "\n",
    "import matplotlib.pyplot as plt\n",
    "import seaborn as sns\n",
    "\n",
    "import statsmodels.formula.api as smf\n",
    "\n",
    "from sklearn.model_selection import train_test_split, GridSearchCV\n",
    "from sklearn.feature_selection import RFE\n",
    "from sklearn.linear_model import LogisticRegression\n",
    "from sklearn import metrics\n",
    "\n",
    "import warnings \n",
    "warnings.filterwarnings('ignore')"
   ]
  },
  {
   "cell_type": "markdown",
   "id": "307267e6",
   "metadata": {},
   "source": [
    "### 1.2. Loading the data sets"
   ]
  },
  {
   "cell_type": "code",
   "execution_count": 2,
   "id": "cfd743ad",
   "metadata": {},
   "outputs": [
    {
     "name": "stdout",
     "output_type": "stream",
     "text": [
      "(614, 14)\n"
     ]
    },
    {
     "data": {
      "text/html": [
       "<div>\n",
       "<style scoped>\n",
       "    .dataframe tbody tr th:only-of-type {\n",
       "        vertical-align: middle;\n",
       "    }\n",
       "\n",
       "    .dataframe tbody tr th {\n",
       "        vertical-align: top;\n",
       "    }\n",
       "\n",
       "    .dataframe thead th {\n",
       "        text-align: right;\n",
       "    }\n",
       "</style>\n",
       "<table border=\"1\" class=\"dataframe\">\n",
       "  <thead>\n",
       "    <tr style=\"text-align: right;\">\n",
       "      <th></th>\n",
       "      <th>Loan_ID</th>\n",
       "      <th>Gender</th>\n",
       "      <th>Married</th>\n",
       "      <th>Dependents</th>\n",
       "      <th>Education</th>\n",
       "      <th>Self_Employed</th>\n",
       "      <th>ApplicantIncome</th>\n",
       "      <th>CoapplicantIncome</th>\n",
       "      <th>LoanAmount</th>\n",
       "      <th>Loan_Amount_Term</th>\n",
       "      <th>Credit_History</th>\n",
       "      <th>Property_Area</th>\n",
       "      <th>Loan_Status</th>\n",
       "      <th>DateOfBirth</th>\n",
       "    </tr>\n",
       "  </thead>\n",
       "  <tbody>\n",
       "    <tr>\n",
       "      <th>0</th>\n",
       "      <td>HF001002</td>\n",
       "      <td>Male</td>\n",
       "      <td>No</td>\n",
       "      <td>0</td>\n",
       "      <td>Graduate</td>\n",
       "      <td>No</td>\n",
       "      <td>5849</td>\n",
       "      <td>0.0</td>\n",
       "      <td>NaN</td>\n",
       "      <td>360.0</td>\n",
       "      <td>1.0</td>\n",
       "      <td>Urban</td>\n",
       "      <td>Y</td>\n",
       "      <td>04-Jan-1985</td>\n",
       "    </tr>\n",
       "    <tr>\n",
       "      <th>1</th>\n",
       "      <td>HF001003</td>\n",
       "      <td>Male</td>\n",
       "      <td>Yes</td>\n",
       "      <td>1</td>\n",
       "      <td>Graduate</td>\n",
       "      <td>No</td>\n",
       "      <td>4583</td>\n",
       "      <td>1508.0</td>\n",
       "      <td>128.0</td>\n",
       "      <td>360.0</td>\n",
       "      <td>1.0</td>\n",
       "      <td>Rural</td>\n",
       "      <td>N</td>\n",
       "      <td>25-Oct-1989</td>\n",
       "    </tr>\n",
       "    <tr>\n",
       "      <th>2</th>\n",
       "      <td>HF001005</td>\n",
       "      <td>Male</td>\n",
       "      <td>Yes</td>\n",
       "      <td>0</td>\n",
       "      <td>Graduate</td>\n",
       "      <td>Yes</td>\n",
       "      <td>3000</td>\n",
       "      <td>0.0</td>\n",
       "      <td>66.0</td>\n",
       "      <td>360.0</td>\n",
       "      <td>1.0</td>\n",
       "      <td>Urban</td>\n",
       "      <td>Y</td>\n",
       "      <td>20-Aug-1986</td>\n",
       "    </tr>\n",
       "    <tr>\n",
       "      <th>3</th>\n",
       "      <td>HF001006</td>\n",
       "      <td>Male</td>\n",
       "      <td>Yes</td>\n",
       "      <td>0</td>\n",
       "      <td>Not Graduate</td>\n",
       "      <td>No</td>\n",
       "      <td>2583</td>\n",
       "      <td>2358.0</td>\n",
       "      <td>120.0</td>\n",
       "      <td>360.0</td>\n",
       "      <td>1.0</td>\n",
       "      <td>Urban</td>\n",
       "      <td>Y</td>\n",
       "      <td>18-Aug-1996</td>\n",
       "    </tr>\n",
       "    <tr>\n",
       "      <th>4</th>\n",
       "      <td>HF001008</td>\n",
       "      <td>Male</td>\n",
       "      <td>No</td>\n",
       "      <td>0</td>\n",
       "      <td>Graduate</td>\n",
       "      <td>No</td>\n",
       "      <td>6000</td>\n",
       "      <td>0.0</td>\n",
       "      <td>141.0</td>\n",
       "      <td>360.0</td>\n",
       "      <td>1.0</td>\n",
       "      <td>Urban</td>\n",
       "      <td>Y</td>\n",
       "      <td>01-Jun-1984</td>\n",
       "    </tr>\n",
       "  </tbody>\n",
       "</table>\n",
       "</div>"
      ],
      "text/plain": [
       "    Loan_ID Gender Married Dependents     Education Self_Employed  \\\n",
       "0  HF001002   Male      No          0      Graduate            No   \n",
       "1  HF001003   Male     Yes          1      Graduate            No   \n",
       "2  HF001005   Male     Yes          0      Graduate           Yes   \n",
       "3  HF001006   Male     Yes          0  Not Graduate            No   \n",
       "4  HF001008   Male      No          0      Graduate            No   \n",
       "\n",
       "   ApplicantIncome  CoapplicantIncome  LoanAmount  Loan_Amount_Term  \\\n",
       "0             5849                0.0         NaN             360.0   \n",
       "1             4583             1508.0       128.0             360.0   \n",
       "2             3000                0.0        66.0             360.0   \n",
       "3             2583             2358.0       120.0             360.0   \n",
       "4             6000                0.0       141.0             360.0   \n",
       "\n",
       "   Credit_History Property_Area Loan_Status  DateOfBirth  \n",
       "0             1.0         Urban           Y  04-Jan-1985  \n",
       "1             1.0         Rural           N  25-Oct-1989  \n",
       "2             1.0         Urban           Y  20-Aug-1986  \n",
       "3             1.0         Urban           Y  18-Aug-1996  \n",
       "4             1.0         Urban           Y  01-Jun-1984  "
      ]
     },
     "execution_count": 2,
     "metadata": {},
     "output_type": "execute_result"
    }
   ],
   "source": [
    "data = pd.read_csv(\"data 2.csv\")\n",
    "print(data.shape)\n",
    "data.head()"
   ]
  },
  {
   "cell_type": "markdown",
   "id": "bd8bdf13",
   "metadata": {},
   "source": [
    "### 1.3. Inspecting the data"
   ]
  },
  {
   "cell_type": "code",
   "execution_count": 3,
   "id": "5ee5df58",
   "metadata": {},
   "outputs": [
    {
     "name": "stdout",
     "output_type": "stream",
     "text": [
      "<class 'pandas.core.frame.DataFrame'>\n",
      "RangeIndex: 614 entries, 0 to 613\n",
      "Data columns (total 14 columns):\n",
      " #   Column             Non-Null Count  Dtype  \n",
      "---  ------             --------------  -----  \n",
      " 0   Loan_ID            614 non-null    object \n",
      " 1   Gender             601 non-null    object \n",
      " 2   Married            611 non-null    object \n",
      " 3   Dependents         599 non-null    object \n",
      " 4   Education          614 non-null    object \n",
      " 5   Self_Employed      582 non-null    object \n",
      " 6   ApplicantIncome    614 non-null    int64  \n",
      " 7   CoapplicantIncome  614 non-null    float64\n",
      " 8   LoanAmount         592 non-null    float64\n",
      " 9   Loan_Amount_Term   600 non-null    float64\n",
      " 10  Credit_History     564 non-null    float64\n",
      " 11  Property_Area      614 non-null    object \n",
      " 12  Loan_Status        614 non-null    object \n",
      " 13  DateOfBirth        614 non-null    object \n",
      "dtypes: float64(4), int64(1), object(9)\n",
      "memory usage: 67.3+ KB\n"
     ]
    }
   ],
   "source": [
    "# Checking if missing values\n",
    "data.info()"
   ]
  },
  {
   "cell_type": "code",
   "execution_count": 4,
   "id": "d8a6691b",
   "metadata": {},
   "outputs": [
    {
     "data": {
      "text/html": [
       "<div>\n",
       "<style scoped>\n",
       "    .dataframe tbody tr th:only-of-type {\n",
       "        vertical-align: middle;\n",
       "    }\n",
       "\n",
       "    .dataframe tbody tr th {\n",
       "        vertical-align: top;\n",
       "    }\n",
       "\n",
       "    .dataframe thead th {\n",
       "        text-align: right;\n",
       "    }\n",
       "</style>\n",
       "<table border=\"1\" class=\"dataframe\">\n",
       "  <thead>\n",
       "    <tr style=\"text-align: right;\">\n",
       "      <th></th>\n",
       "      <th>count</th>\n",
       "      <th>mean</th>\n",
       "      <th>std</th>\n",
       "      <th>min</th>\n",
       "      <th>25%</th>\n",
       "      <th>50%</th>\n",
       "      <th>75%</th>\n",
       "      <th>max</th>\n",
       "    </tr>\n",
       "  </thead>\n",
       "  <tbody>\n",
       "    <tr>\n",
       "      <th>ApplicantIncome</th>\n",
       "      <td>614.0</td>\n",
       "      <td>5403.459283</td>\n",
       "      <td>6109.041673</td>\n",
       "      <td>150.0</td>\n",
       "      <td>2877.5</td>\n",
       "      <td>3812.5</td>\n",
       "      <td>5795.00</td>\n",
       "      <td>81000.0</td>\n",
       "    </tr>\n",
       "    <tr>\n",
       "      <th>CoapplicantIncome</th>\n",
       "      <td>614.0</td>\n",
       "      <td>1621.245798</td>\n",
       "      <td>2926.248369</td>\n",
       "      <td>0.0</td>\n",
       "      <td>0.0</td>\n",
       "      <td>1188.5</td>\n",
       "      <td>2297.25</td>\n",
       "      <td>41667.0</td>\n",
       "    </tr>\n",
       "    <tr>\n",
       "      <th>LoanAmount</th>\n",
       "      <td>592.0</td>\n",
       "      <td>146.412162</td>\n",
       "      <td>85.587325</td>\n",
       "      <td>9.0</td>\n",
       "      <td>100.0</td>\n",
       "      <td>128.0</td>\n",
       "      <td>168.00</td>\n",
       "      <td>700.0</td>\n",
       "    </tr>\n",
       "    <tr>\n",
       "      <th>Loan_Amount_Term</th>\n",
       "      <td>600.0</td>\n",
       "      <td>342.000000</td>\n",
       "      <td>65.120410</td>\n",
       "      <td>12.0</td>\n",
       "      <td>360.0</td>\n",
       "      <td>360.0</td>\n",
       "      <td>360.00</td>\n",
       "      <td>480.0</td>\n",
       "    </tr>\n",
       "    <tr>\n",
       "      <th>Credit_History</th>\n",
       "      <td>564.0</td>\n",
       "      <td>0.842199</td>\n",
       "      <td>0.364878</td>\n",
       "      <td>0.0</td>\n",
       "      <td>1.0</td>\n",
       "      <td>1.0</td>\n",
       "      <td>1.00</td>\n",
       "      <td>1.0</td>\n",
       "    </tr>\n",
       "  </tbody>\n",
       "</table>\n",
       "</div>"
      ],
      "text/plain": [
       "                   count         mean          std    min     25%     50%  \\\n",
       "ApplicantIncome    614.0  5403.459283  6109.041673  150.0  2877.5  3812.5   \n",
       "CoapplicantIncome  614.0  1621.245798  2926.248369    0.0     0.0  1188.5   \n",
       "LoanAmount         592.0   146.412162    85.587325    9.0   100.0   128.0   \n",
       "Loan_Amount_Term   600.0   342.000000    65.120410   12.0   360.0   360.0   \n",
       "Credit_History     564.0     0.842199     0.364878    0.0     1.0     1.0   \n",
       "\n",
       "                       75%      max  \n",
       "ApplicantIncome    5795.00  81000.0  \n",
       "CoapplicantIncome  2297.25  41667.0  \n",
       "LoanAmount          168.00    700.0  \n",
       "Loan_Amount_Term    360.00    480.0  \n",
       "Credit_History        1.00      1.0  "
      ]
     },
     "execution_count": 4,
     "metadata": {},
     "output_type": "execute_result"
    }
   ],
   "source": [
    "# Checking Data distribution.\n",
    "data.describe().T"
   ]
  },
  {
   "cell_type": "code",
   "execution_count": 5,
   "id": "2fe349ea",
   "metadata": {
    "scrolled": true
   },
   "outputs": [
    {
     "name": "stdout",
     "output_type": "stream",
     "text": [
      "1. Loan_ID: 614\n",
      "HF001002    1\n",
      "HF002328    1\n",
      "HF002305    1\n",
      "HF002308    1\n",
      "HF002314    1\n",
      "           ..\n",
      "HF001692    1\n",
      "HF001693    1\n",
      "HF001698    1\n",
      "HF001699    1\n",
      "HF002990    1\n",
      "Name: Loan_ID, Length: 614, dtype: int64\n",
      "----------\n",
      "\n",
      "2. Gender: 2\n",
      "Male      489\n",
      "Female    112\n",
      "Name: Gender, dtype: int64\n",
      "----------\n",
      "\n",
      "3. Married: 2\n",
      "Yes    398\n",
      "No     213\n",
      "Name: Married, dtype: int64\n",
      "----------\n",
      "\n",
      "4. Dependents: 4\n",
      "0     345\n",
      "1     102\n",
      "2     101\n",
      "3+     51\n",
      "Name: Dependents, dtype: int64\n",
      "----------\n",
      "\n",
      "5. Education: 2\n",
      "Graduate        480\n",
      "Not Graduate    134\n",
      "Name: Education, dtype: int64\n",
      "----------\n",
      "\n",
      "6. Self_Employed: 2\n",
      "No     500\n",
      "Yes     82\n",
      "Name: Self_Employed, dtype: int64\n",
      "----------\n",
      "\n",
      "7. ApplicantIncome: 505\n",
      "2500    9\n",
      "4583    6\n",
      "6000    6\n",
      "2600    6\n",
      "3333    5\n",
      "       ..\n",
      "3244    1\n",
      "4408    1\n",
      "3917    1\n",
      "3992    1\n",
      "7583    1\n",
      "Name: ApplicantIncome, Length: 505, dtype: int64\n",
      "----------\n",
      "\n",
      "8. CoapplicantIncome: 287\n",
      "0.0       273\n",
      "2500.0      5\n",
      "2083.0      5\n",
      "1666.0      5\n",
      "2250.0      3\n",
      "         ... \n",
      "2791.0      1\n",
      "1010.0      1\n",
      "1695.0      1\n",
      "2598.0      1\n",
      "240.0       1\n",
      "Name: CoapplicantIncome, Length: 287, dtype: int64\n",
      "----------\n",
      "\n",
      "9. LoanAmount: 203\n",
      "120.0    20\n",
      "110.0    17\n",
      "100.0    15\n",
      "160.0    12\n",
      "187.0    12\n",
      "         ..\n",
      "240.0     1\n",
      "214.0     1\n",
      "59.0      1\n",
      "166.0     1\n",
      "253.0     1\n",
      "Name: LoanAmount, Length: 203, dtype: int64\n",
      "----------\n",
      "\n",
      "10. Loan_Amount_Term: 10\n",
      "360.0    512\n",
      "180.0     44\n",
      "480.0     15\n",
      "300.0     13\n",
      "240.0      4\n",
      "84.0       4\n",
      "120.0      3\n",
      "60.0       2\n",
      "36.0       2\n",
      "12.0       1\n",
      "Name: Loan_Amount_Term, dtype: int64\n",
      "----------\n",
      "\n",
      "11. Credit_History: 2\n",
      "1.0    475\n",
      "0.0     89\n",
      "Name: Credit_History, dtype: int64\n",
      "----------\n",
      "\n",
      "12. Property_Area: 3\n",
      "Semiurban    233\n",
      "Urban        202\n",
      "Rural        179\n",
      "Name: Property_Area, dtype: int64\n",
      "----------\n",
      "\n",
      "13. Loan_Status: 2\n",
      "Y    422\n",
      "N    192\n",
      "Name: Loan_Status, dtype: int64\n",
      "----------\n",
      "\n",
      "14. DateOfBirth: 590\n",
      "12-Jul-1990    2\n",
      "04-Jul-1995    2\n",
      "26-Dec-1989    2\n",
      "19-Feb-1989    2\n",
      "23-Aug-1988    2\n",
      "              ..\n",
      "01-Oct-1985    1\n",
      "26-Sep-1997    1\n",
      "20-Jun-1993    1\n",
      "15-Apr-1993    1\n",
      "14-Dec-1999    1\n",
      "Name: DateOfBirth, Length: 590, dtype: int64\n",
      "----------\n",
      "\n"
     ]
    }
   ],
   "source": [
    "# Checking number of unique values in each columns\n",
    "count = 1\n",
    "for x in data:\n",
    "    print(f'{count}. {x}: {data[x].nunique()}')\n",
    "    print(f'{data[x].value_counts()}', end = '\\n----------\\n\\n' )    \n",
    "    count += 1"
   ]
  },
  {
   "cell_type": "markdown",
   "id": "8eb6428d",
   "metadata": {},
   "source": [
    "Things to be noted from above result:\n",
    "1. There is imbalance in the data. (In Y-variable, one of the class have very high number than the other.)\n",
    "2. Loan_ID is a unique variable(All the values in the columns are completely different/ Primary key) and needed to be dropped.\n",
    "3. DateOfBirth is needed to be treated/converted into datetime object.\n",
    "4. Values of some variables are needed to be treated for building models."
   ]
  },
  {
   "cell_type": "code",
   "execution_count": 6,
   "id": "b281c2a9",
   "metadata": {},
   "outputs": [],
   "source": [
    "# Dropping unnecessary columns.\n",
    "data.drop(['Loan_ID'], axis = 1, inplace = True)"
   ]
  },
  {
   "cell_type": "code",
   "execution_count": 7,
   "id": "fc211a77",
   "metadata": {},
   "outputs": [
    {
     "data": {
      "text/html": [
       "<div>\n",
       "<style scoped>\n",
       "    .dataframe tbody tr th:only-of-type {\n",
       "        vertical-align: middle;\n",
       "    }\n",
       "\n",
       "    .dataframe tbody tr th {\n",
       "        vertical-align: top;\n",
       "    }\n",
       "\n",
       "    .dataframe thead th {\n",
       "        text-align: right;\n",
       "    }\n",
       "</style>\n",
       "<table border=\"1\" class=\"dataframe\">\n",
       "  <thead>\n",
       "    <tr style=\"text-align: right;\">\n",
       "      <th></th>\n",
       "      <th>count</th>\n",
       "      <th>mean</th>\n",
       "      <th>std</th>\n",
       "      <th>min</th>\n",
       "      <th>25%</th>\n",
       "      <th>50%</th>\n",
       "      <th>75%</th>\n",
       "      <th>max</th>\n",
       "    </tr>\n",
       "  </thead>\n",
       "  <tbody>\n",
       "    <tr>\n",
       "      <th>ApplicantIncome</th>\n",
       "      <td>614.0</td>\n",
       "      <td>5403.459283</td>\n",
       "      <td>6109.041673</td>\n",
       "      <td>150.0</td>\n",
       "      <td>2877.5</td>\n",
       "      <td>3812.5</td>\n",
       "      <td>5795.00</td>\n",
       "      <td>81000.0</td>\n",
       "    </tr>\n",
       "    <tr>\n",
       "      <th>CoapplicantIncome</th>\n",
       "      <td>614.0</td>\n",
       "      <td>1621.245798</td>\n",
       "      <td>2926.248369</td>\n",
       "      <td>0.0</td>\n",
       "      <td>0.0</td>\n",
       "      <td>1188.5</td>\n",
       "      <td>2297.25</td>\n",
       "      <td>41667.0</td>\n",
       "    </tr>\n",
       "    <tr>\n",
       "      <th>LoanAmount</th>\n",
       "      <td>592.0</td>\n",
       "      <td>146.412162</td>\n",
       "      <td>85.587325</td>\n",
       "      <td>9.0</td>\n",
       "      <td>100.0</td>\n",
       "      <td>128.0</td>\n",
       "      <td>168.00</td>\n",
       "      <td>700.0</td>\n",
       "    </tr>\n",
       "    <tr>\n",
       "      <th>Loan_Amount_Term</th>\n",
       "      <td>600.0</td>\n",
       "      <td>342.000000</td>\n",
       "      <td>65.120410</td>\n",
       "      <td>12.0</td>\n",
       "      <td>360.0</td>\n",
       "      <td>360.0</td>\n",
       "      <td>360.00</td>\n",
       "      <td>480.0</td>\n",
       "    </tr>\n",
       "    <tr>\n",
       "      <th>Credit_History</th>\n",
       "      <td>564.0</td>\n",
       "      <td>0.842199</td>\n",
       "      <td>0.364878</td>\n",
       "      <td>0.0</td>\n",
       "      <td>1.0</td>\n",
       "      <td>1.0</td>\n",
       "      <td>1.00</td>\n",
       "      <td>1.0</td>\n",
       "    </tr>\n",
       "  </tbody>\n",
       "</table>\n",
       "</div>"
      ],
      "text/plain": [
       "                   count         mean          std    min     25%     50%  \\\n",
       "ApplicantIncome    614.0  5403.459283  6109.041673  150.0  2877.5  3812.5   \n",
       "CoapplicantIncome  614.0  1621.245798  2926.248369    0.0     0.0  1188.5   \n",
       "LoanAmount         592.0   146.412162    85.587325    9.0   100.0   128.0   \n",
       "Loan_Amount_Term   600.0   342.000000    65.120410   12.0   360.0   360.0   \n",
       "Credit_History     564.0     0.842199     0.364878    0.0     1.0     1.0   \n",
       "\n",
       "                       75%      max  \n",
       "ApplicantIncome    5795.00  81000.0  \n",
       "CoapplicantIncome  2297.25  41667.0  \n",
       "LoanAmount          168.00    700.0  \n",
       "Loan_Amount_Term    360.00    480.0  \n",
       "Credit_History        1.00      1.0  "
      ]
     },
     "execution_count": 7,
     "metadata": {},
     "output_type": "execute_result"
    }
   ],
   "source": [
    "data.describe().T"
   ]
  },
  {
   "cell_type": "markdown",
   "id": "58ee9afa",
   "metadata": {},
   "source": [
    "## I.2. Numerical Featues / Continuous variable"
   ]
  },
  {
   "cell_type": "markdown",
   "id": "b860ad80",
   "metadata": {},
   "source": [
    "### 1.2.1. Exploring and Cleaning the continuous features"
   ]
  },
  {
   "cell_type": "markdown",
   "id": "20817c0b",
   "metadata": {},
   "source": [
    "#### 1.2.1.1. Extracting Numerical features"
   ]
  },
  {
   "cell_type": "code",
   "execution_count": 8,
   "id": "02618626",
   "metadata": {},
   "outputs": [
    {
     "data": {
      "text/html": [
       "<div>\n",
       "<style scoped>\n",
       "    .dataframe tbody tr th:only-of-type {\n",
       "        vertical-align: middle;\n",
       "    }\n",
       "\n",
       "    .dataframe tbody tr th {\n",
       "        vertical-align: top;\n",
       "    }\n",
       "\n",
       "    .dataframe thead th {\n",
       "        text-align: right;\n",
       "    }\n",
       "</style>\n",
       "<table border=\"1\" class=\"dataframe\">\n",
       "  <thead>\n",
       "    <tr style=\"text-align: right;\">\n",
       "      <th></th>\n",
       "      <th>ApplicantIncome</th>\n",
       "      <th>CoapplicantIncome</th>\n",
       "      <th>DateOfBirth</th>\n",
       "      <th>LoanAmount</th>\n",
       "      <th>Loan_Amount_Term</th>\n",
       "    </tr>\n",
       "  </thead>\n",
       "  <tbody>\n",
       "    <tr>\n",
       "      <th>0</th>\n",
       "      <td>5849</td>\n",
       "      <td>0.0</td>\n",
       "      <td>04-Jan-1985</td>\n",
       "      <td>NaN</td>\n",
       "      <td>360.0</td>\n",
       "    </tr>\n",
       "    <tr>\n",
       "      <th>1</th>\n",
       "      <td>4583</td>\n",
       "      <td>1508.0</td>\n",
       "      <td>25-Oct-1989</td>\n",
       "      <td>128.0</td>\n",
       "      <td>360.0</td>\n",
       "    </tr>\n",
       "    <tr>\n",
       "      <th>2</th>\n",
       "      <td>3000</td>\n",
       "      <td>0.0</td>\n",
       "      <td>20-Aug-1986</td>\n",
       "      <td>66.0</td>\n",
       "      <td>360.0</td>\n",
       "    </tr>\n",
       "    <tr>\n",
       "      <th>3</th>\n",
       "      <td>2583</td>\n",
       "      <td>2358.0</td>\n",
       "      <td>18-Aug-1996</td>\n",
       "      <td>120.0</td>\n",
       "      <td>360.0</td>\n",
       "    </tr>\n",
       "    <tr>\n",
       "      <th>4</th>\n",
       "      <td>6000</td>\n",
       "      <td>0.0</td>\n",
       "      <td>01-Jun-1984</td>\n",
       "      <td>141.0</td>\n",
       "      <td>360.0</td>\n",
       "    </tr>\n",
       "    <tr>\n",
       "      <th>...</th>\n",
       "      <td>...</td>\n",
       "      <td>...</td>\n",
       "      <td>...</td>\n",
       "      <td>...</td>\n",
       "      <td>...</td>\n",
       "    </tr>\n",
       "    <tr>\n",
       "      <th>609</th>\n",
       "      <td>2900</td>\n",
       "      <td>0.0</td>\n",
       "      <td>09-Sep-1989</td>\n",
       "      <td>71.0</td>\n",
       "      <td>360.0</td>\n",
       "    </tr>\n",
       "    <tr>\n",
       "      <th>610</th>\n",
       "      <td>4106</td>\n",
       "      <td>0.0</td>\n",
       "      <td>05-Apr-1996</td>\n",
       "      <td>40.0</td>\n",
       "      <td>180.0</td>\n",
       "    </tr>\n",
       "    <tr>\n",
       "      <th>611</th>\n",
       "      <td>8072</td>\n",
       "      <td>240.0</td>\n",
       "      <td>23-Apr-1988</td>\n",
       "      <td>253.0</td>\n",
       "      <td>360.0</td>\n",
       "    </tr>\n",
       "    <tr>\n",
       "      <th>612</th>\n",
       "      <td>7583</td>\n",
       "      <td>0.0</td>\n",
       "      <td>24-Jun-1998</td>\n",
       "      <td>187.0</td>\n",
       "      <td>360.0</td>\n",
       "    </tr>\n",
       "    <tr>\n",
       "      <th>613</th>\n",
       "      <td>4583</td>\n",
       "      <td>0.0</td>\n",
       "      <td>14-Dec-1999</td>\n",
       "      <td>133.0</td>\n",
       "      <td>360.0</td>\n",
       "    </tr>\n",
       "  </tbody>\n",
       "</table>\n",
       "<p>614 rows × 5 columns</p>\n",
       "</div>"
      ],
      "text/plain": [
       "     ApplicantIncome  CoapplicantIncome  DateOfBirth  LoanAmount  \\\n",
       "0               5849                0.0  04-Jan-1985         NaN   \n",
       "1               4583             1508.0  25-Oct-1989       128.0   \n",
       "2               3000                0.0  20-Aug-1986        66.0   \n",
       "3               2583             2358.0  18-Aug-1996       120.0   \n",
       "4               6000                0.0  01-Jun-1984       141.0   \n",
       "..               ...                ...          ...         ...   \n",
       "609             2900                0.0  09-Sep-1989        71.0   \n",
       "610             4106                0.0  05-Apr-1996        40.0   \n",
       "611             8072              240.0  23-Apr-1988       253.0   \n",
       "612             7583                0.0  24-Jun-1998       187.0   \n",
       "613             4583                0.0  14-Dec-1999       133.0   \n",
       "\n",
       "     Loan_Amount_Term  \n",
       "0               360.0  \n",
       "1               360.0  \n",
       "2               360.0  \n",
       "3               360.0  \n",
       "4               360.0  \n",
       "..                ...  \n",
       "609             360.0  \n",
       "610             180.0  \n",
       "611             360.0  \n",
       "612             360.0  \n",
       "613             360.0  \n",
       "\n",
       "[614 rows x 5 columns]"
      ]
     },
     "execution_count": 8,
     "metadata": {},
     "output_type": "execute_result"
    }
   ],
   "source": [
    "cont_data = data[['ApplicantIncome', 'CoapplicantIncome', 'DateOfBirth', 'LoanAmount', 'Loan_Amount_Term']]\n",
    "cont_data"
   ]
  },
  {
   "cell_type": "code",
   "execution_count": 9,
   "id": "966f6973",
   "metadata": {},
   "outputs": [],
   "source": [
    "def converter(date):\n",
    "    return dt.now().year - dt.strptime(date, \"%d-%b-%Y\").year"
   ]
  },
  {
   "cell_type": "code",
   "execution_count": 10,
   "id": "e03f78d8",
   "metadata": {
    "scrolled": true
   },
   "outputs": [],
   "source": [
    "cont_data.DateOfBirth = cont_data.DateOfBirth.apply(converter)"
   ]
  },
  {
   "cell_type": "markdown",
   "id": "9e1bea42",
   "metadata": {},
   "source": [
    "#### 1.2.1.2. Data distribution"
   ]
  },
  {
   "cell_type": "code",
   "execution_count": 11,
   "id": "466053ce",
   "metadata": {
    "scrolled": false
   },
   "outputs": [
    {
     "data": {
      "image/png": "[encoded data removed]",
      "text/plain": [
       "<Figure size 1440x1440 with 6 Axes>"
      ]
     },
     "metadata": {
      "needs_background": "light"
     },
     "output_type": "display_data"
    }
   ],
   "source": [
    "cont_data.hist(figsize = (20, 20), bins = 50, xlabelsize = 8, ylabelsize = 8)\n",
    "plt.show()"
   ]
  },
  {
   "cell_type": "markdown",
   "id": "411cae29",
   "metadata": {},
   "source": [
    "#### 1.2.1.3. BarPlot"
   ]
  },
  {
   "cell_type": "code",
   "execution_count": 12,
   "id": "e8ebf276",
   "metadata": {
    "scrolled": false
   },
   "outputs": [
    {
     "data": {
      "image/png": "[encoded data removed]",
      "text/plain": [
       "<Figure size 432x288 with 1 Axes>"
      ]
     },
     "metadata": {
      "needs_background": "light"
     },
     "output_type": "display_data"
    },
    {
     "data": {
      "image/png": "[encoded data removed]",
      "text/plain": [
       "<Figure size 432x288 with 1 Axes>"
      ]
     },
     "metadata": {
      "needs_background": "light"
     },
     "output_type": "display_data"
    },
    {
     "data": {
      "image/png": "[encoded data removed]",
      "text/plain": [
       "<Figure size 432x288 with 1 Axes>"
      ]
     },
     "metadata": {
      "needs_background": "light"
     },
     "output_type": "display_data"
    },
    {
     "data": {
      "image/png": "[encoded data removed]",
      "text/plain": [
       "<Figure size 432x288 with 1 Axes>"
      ]
     },
     "metadata": {
      "needs_background": "light"
     },
     "output_type": "display_data"
    },
    {
     "data": {
      "image/png": "[encoded data removed]",
      "text/plain": [
       "<Figure size 432x288 with 1 Axes>"
      ]
     },
     "metadata": {
      "needs_background": "light"
     },
     "output_type": "display_data"
    }
   ],
   "source": [
    "for i in cont_data:\n",
    "    sns.barplot(y = cont_data[i], x = data['Loan_Status'])\n",
    "    plt.show()"
   ]
  },
  {
   "cell_type": "markdown",
   "id": "a63b7ba5",
   "metadata": {},
   "source": [
    "#### 1.2.1.4. Checking for outliers"
   ]
  },
  {
   "cell_type": "code",
   "execution_count": 13,
   "id": "9b21122a",
   "metadata": {
    "scrolled": false
   },
   "outputs": [
    {
     "data": {
      "image/png": "[encoded data removed]",
      "text/plain": [
       "<Figure size 432x288 with 1 Axes>"
      ]
     },
     "metadata": {
      "needs_background": "light"
     },
     "output_type": "display_data"
    },
    {
     "data": {
      "image/png": "[encoded data removed]",
      "text/plain": [
       "<Figure size 432x288 with 1 Axes>"
      ]
     },
     "metadata": {
      "needs_background": "light"
     },
     "output_type": "display_data"
    },
    {
     "data": {
      "image/png": "[encoded data removed]",
      "text/plain": [
       "<Figure size 432x288 with 1 Axes>"
      ]
     },
     "metadata": {
      "needs_background": "light"
     },
     "output_type": "display_data"
    },
    {
     "data": {
      "image/png": "[encoded data removed]",
      "text/plain": [
       "<Figure size 432x288 with 1 Axes>"
      ]
     },
     "metadata": {
      "needs_background": "light"
     },
     "output_type": "display_data"
    },
    {
     "data": {
      "image/png": "[encoded data removed]",
      "text/plain": [
       "<Figure size 432x288 with 1 Axes>"
      ]
     },
     "metadata": {
      "needs_background": "light"
     },
     "output_type": "display_data"
    }
   ],
   "source": [
    "# Using box plot for checking the presence of outliers.\n",
    "for i in cont_data:\n",
    "    plt.boxplot(cont_data[i], labels = [i])\n",
    "    plt.show()"
   ]
  },
  {
   "cell_type": "markdown",
   "id": "878f09da",
   "metadata": {},
   "source": [
    "Some variables may show outliers here in the boxplot but actually have a meaningful reason for their presence.\n",
    "However, we opt for treating them. Outliers should be treated only for necessary variable based on our domain understanding."
   ]
  },
  {
   "cell_type": "code",
   "execution_count": 14,
   "id": "ec881088",
   "metadata": {
    "scrolled": false
   },
   "outputs": [
    {
     "data": {
      "image/png": "[encoded data removed]",
      "text/plain": [
       "<Figure size 432x288 with 1 Axes>"
      ]
     },
     "metadata": {
      "needs_background": "light"
     },
     "output_type": "display_data"
    },
    {
     "data": {
      "image/png": "[encoded data removed]",
      "text/plain": [
       "<Figure size 432x288 with 1 Axes>"
      ]
     },
     "metadata": {
      "needs_background": "light"
     },
     "output_type": "display_data"
    },
    {
     "data": {
      "image/png": "[encoded data removed]",
      "text/plain": [
       "<Figure size 432x288 with 1 Axes>"
      ]
     },
     "metadata": {
      "needs_background": "light"
     },
     "output_type": "display_data"
    },
    {
     "data": {
      "image/png": "[encoded data removed]",
      "text/plain": [
       "<Figure size 432x288 with 1 Axes>"
      ]
     },
     "metadata": {
      "needs_background": "light"
     },
     "output_type": "display_data"
    },
    {
     "data": {
      "image/png": "[encoded data removed]",
      "text/plain": [
       "<Figure size 432x288 with 1 Axes>"
      ]
     },
     "metadata": {
      "needs_background": "light"
     },
     "output_type": "display_data"
    }
   ],
   "source": [
    "for i in cont_data:\n",
    "    sns.histplot(cont_data[i], kde = True, bins = 50, label = cont_data[i].skew())\n",
    "    plt.legend(loc = 'upper right')\n",
    "    plt.show()"
   ]
  },
  {
   "cell_type": "code",
   "execution_count": 15,
   "id": "01f1f668",
   "metadata": {},
   "outputs": [],
   "source": [
    "# Using IQR-method for Outliers treatment.\n",
    "def outlierTreat(x):\n",
    "    upper = x.quantile(.75) + 1.5 * (x.quantile(.75) - x.quantile(.25)) \n",
    "    lower = x.quantile(.25) - 1.5 * (x.quantile(.75) - x.quantile(.25))\n",
    "    return x.clip(lower, upper)"
   ]
  },
  {
   "cell_type": "code",
   "execution_count": 16,
   "id": "db5070b2",
   "metadata": {},
   "outputs": [],
   "source": [
    "out_vars = [\"ApplicantIncome\", \"CoapplicantIncome\"]"
   ]
  },
  {
   "cell_type": "code",
   "execution_count": 17,
   "id": "4ea5bdfd",
   "metadata": {
    "scrolled": false
   },
   "outputs": [
    {
     "data": {
      "text/html": [
       "<div>\n",
       "<style scoped>\n",
       "    .dataframe tbody tr th:only-of-type {\n",
       "        vertical-align: middle;\n",
       "    }\n",
       "\n",
       "    .dataframe tbody tr th {\n",
       "        vertical-align: top;\n",
       "    }\n",
       "\n",
       "    .dataframe thead th {\n",
       "        text-align: right;\n",
       "    }\n",
       "</style>\n",
       "<table border=\"1\" class=\"dataframe\">\n",
       "  <thead>\n",
       "    <tr style=\"text-align: right;\">\n",
       "      <th></th>\n",
       "      <th>ApplicantIncome</th>\n",
       "      <th>CoapplicantIncome</th>\n",
       "    </tr>\n",
       "  </thead>\n",
       "  <tbody>\n",
       "    <tr>\n",
       "      <th>0</th>\n",
       "      <td>5849.0</td>\n",
       "      <td>0.0</td>\n",
       "    </tr>\n",
       "    <tr>\n",
       "      <th>1</th>\n",
       "      <td>4583.0</td>\n",
       "      <td>1508.0</td>\n",
       "    </tr>\n",
       "    <tr>\n",
       "      <th>2</th>\n",
       "      <td>3000.0</td>\n",
       "      <td>0.0</td>\n",
       "    </tr>\n",
       "    <tr>\n",
       "      <th>3</th>\n",
       "      <td>2583.0</td>\n",
       "      <td>2358.0</td>\n",
       "    </tr>\n",
       "    <tr>\n",
       "      <th>4</th>\n",
       "      <td>6000.0</td>\n",
       "      <td>0.0</td>\n",
       "    </tr>\n",
       "    <tr>\n",
       "      <th>...</th>\n",
       "      <td>...</td>\n",
       "      <td>...</td>\n",
       "    </tr>\n",
       "    <tr>\n",
       "      <th>609</th>\n",
       "      <td>2900.0</td>\n",
       "      <td>0.0</td>\n",
       "    </tr>\n",
       "    <tr>\n",
       "      <th>610</th>\n",
       "      <td>4106.0</td>\n",
       "      <td>0.0</td>\n",
       "    </tr>\n",
       "    <tr>\n",
       "      <th>611</th>\n",
       "      <td>8072.0</td>\n",
       "      <td>240.0</td>\n",
       "    </tr>\n",
       "    <tr>\n",
       "      <th>612</th>\n",
       "      <td>7583.0</td>\n",
       "      <td>0.0</td>\n",
       "    </tr>\n",
       "    <tr>\n",
       "      <th>613</th>\n",
       "      <td>4583.0</td>\n",
       "      <td>0.0</td>\n",
       "    </tr>\n",
       "  </tbody>\n",
       "</table>\n",
       "<p>614 rows × 2 columns</p>\n",
       "</div>"
      ],
      "text/plain": [
       "     ApplicantIncome  CoapplicantIncome\n",
       "0             5849.0                0.0\n",
       "1             4583.0             1508.0\n",
       "2             3000.0                0.0\n",
       "3             2583.0             2358.0\n",
       "4             6000.0                0.0\n",
       "..               ...                ...\n",
       "609           2900.0                0.0\n",
       "610           4106.0                0.0\n",
       "611           8072.0              240.0\n",
       "612           7583.0                0.0\n",
       "613           4583.0                0.0\n",
       "\n",
       "[614 rows x 2 columns]"
      ]
     },
     "execution_count": 17,
     "metadata": {},
     "output_type": "execute_result"
    }
   ],
   "source": [
    "cont_data.loc[:, out_vars] = cont_data.loc[:, out_vars].apply(outlierTreat)\n",
    "cont_data.loc[:, out_vars]"
   ]
  },
  {
   "cell_type": "code",
   "execution_count": 18,
   "id": "c739c6a2",
   "metadata": {
    "scrolled": false
   },
   "outputs": [
    {
     "data": {
      "image/png": "[encoded data removed]",
      "text/plain": [
       "<Figure size 432x288 with 1 Axes>"
      ]
     },
     "metadata": {
      "needs_background": "light"
     },
     "output_type": "display_data"
    },
    {
     "data": {
      "image/png": "[encoded data removed]",
      "text/plain": [
       "<Figure size 432x288 with 1 Axes>"
      ]
     },
     "metadata": {
      "needs_background": "light"
     },
     "output_type": "display_data"
    },
    {
     "data": {
      "image/png": "[encoded data removed]",
      "text/plain": [
       "<Figure size 432x288 with 1 Axes>"
      ]
     },
     "metadata": {
      "needs_background": "light"
     },
     "output_type": "display_data"
    },
    {
     "data": {
      "image/png": "[encoded data removed]",
      "text/plain": [
       "<Figure size 432x288 with 1 Axes>"
      ]
     },
     "metadata": {
      "needs_background": "light"
     },
     "output_type": "display_data"
    },
    {
     "data": {
      "image/png": "[encoded data removed]",
      "text/plain": [
       "<Figure size 432x288 with 1 Axes>"
      ]
     },
     "metadata": {
      "needs_background": "light"
     },
     "output_type": "display_data"
    }
   ],
   "source": [
    "# Using box plot for checking the presence of outliers.\n",
    "for i in cont_data:\n",
    "    plt.boxplot(cont_data[i], labels = [i])\n",
    "    plt.show()"
   ]
  },
  {
   "cell_type": "markdown",
   "id": "910869a8",
   "metadata": {},
   "source": [
    "### 1.2.2. Missing value treatment"
   ]
  },
  {
   "cell_type": "markdown",
   "id": "5eb42826",
   "metadata": {},
   "source": [
    "#### 1.2.2.1. Checking presence of missing values"
   ]
  },
  {
   "cell_type": "code",
   "execution_count": 19,
   "id": "5181b4e5",
   "metadata": {
    "scrolled": false
   },
   "outputs": [
    {
     "name": "stdout",
     "output_type": "stream",
     "text": [
      "ApplicantIncome: 0\n",
      "CoapplicantIncome: 0\n",
      "DateOfBirth: 0\n",
      "LoanAmount: 22\n",
      "Loan_Amount_Term: 14\n"
     ]
    }
   ],
   "source": [
    "for i in cont_data:\n",
    "    print(f'{i}: {cont_data.shape[0] - cont_data[i].count()}')"
   ]
  },
  {
   "cell_type": "markdown",
   "id": "666d8331",
   "metadata": {},
   "source": [
    "Hence, there are few missing values for Continuous variables.\n",
    "Here, we are currently dropping them. It could also have been filled with 0 values assuming that the family have not taken any kind of loan or they have already paid the loan. "
   ]
  },
  {
   "cell_type": "code",
   "execution_count": 20,
   "id": "89007790",
   "metadata": {},
   "outputs": [],
   "source": [
    "cont_data = cont_data.dropna()"
   ]
  },
  {
   "cell_type": "code",
   "execution_count": 21,
   "id": "4c8ddeb0",
   "metadata": {},
   "outputs": [
    {
     "name": "stdout",
     "output_type": "stream",
     "text": [
      "ApplicantIncome: 0\n",
      "CoapplicantIncome: 0\n",
      "DateOfBirth: 0\n",
      "LoanAmount: 0\n",
      "Loan_Amount_Term: 0\n"
     ]
    }
   ],
   "source": [
    "for i in cont_data:\n",
    "    print(f'{i}: {cont_data.shape[0] - cont_data[i].count()}')"
   ]
  },
  {
   "cell_type": "markdown",
   "id": "88156b2c",
   "metadata": {},
   "source": [
    "Now, we plot a heatmap to visualize for multi-collinearity. However, we will be using other statistical method to remove multi-collinearity."
   ]
  },
  {
   "cell_type": "code",
   "execution_count": 22,
   "id": "0c8f9f3f",
   "metadata": {},
   "outputs": [
    {
     "data": {
      "text/plain": [
       "<AxesSubplot:>"
      ]
     },
     "execution_count": 22,
     "metadata": {},
     "output_type": "execute_result"
    },
    {
     "data": {
      "image/png": "[encoded data removed]",
      "text/plain": [
       "<Figure size 1800x1800 with 2 Axes>"
      ]
     },
     "metadata": {
      "needs_background": "light"
     },
     "output_type": "display_data"
    }
   ],
   "source": [
    "# Finding the correlation.\n",
    "corr = cont_data.corr()\n",
    "\n",
    "# Setting the size of figure.\n",
    "plt.rcParams['figure.figsize'] = (25, 25)\n",
    "\n",
    "# Argument Trimming out the values above the main diagonal.\n",
    "mask = np.triu(corr)\n",
    "\n",
    "# Setting low correlation value to 0.\n",
    "corr[(corr.values < 0.3) & (corr.values > -0.3)] = 0\n",
    "\n",
    "# Plotting the heatmap.\n",
    "sns.heatmap(corr, annot = True, fmt = '.2f', mask = mask)"
   ]
  },
  {
   "cell_type": "markdown",
   "id": "717055c6",
   "metadata": {},
   "source": [
    "#### We will be keeping notes of these collinear variables.\n",
    "#### Later after combining the categorical variables, we'll be dropping out multi-collinearity."
   ]
  },
  {
   "cell_type": "markdown",
   "id": "d1cb518f",
   "metadata": {},
   "source": [
    "---"
   ]
  },
  {
   "cell_type": "markdown",
   "id": "f769b888",
   "metadata": {},
   "source": [
    "## I.3. Categorical Featues"
   ]
  },
  {
   "cell_type": "markdown",
   "id": "1eabc973",
   "metadata": {},
   "source": [
    "### 1.3.1. Exploring and Cleaning the Categorical features"
   ]
  },
  {
   "cell_type": "markdown",
   "id": "54b24430",
   "metadata": {},
   "source": [
    "#### 1.3.1.1. Extracting Categorical features"
   ]
  },
  {
   "cell_type": "code",
   "execution_count": 23,
   "id": "cc6ec0a7",
   "metadata": {},
   "outputs": [
    {
     "data": {
      "text/plain": [
       "Index(['Credit_History', 'Dependents', 'Education', 'Gender', 'Loan_Status',\n",
       "       'Married', 'Property_Area', 'Self_Employed'],\n",
       "      dtype='object')"
      ]
     },
     "execution_count": 23,
     "metadata": {},
     "output_type": "execute_result"
    }
   ],
   "source": [
    "data.columns.difference(cont_data.columns)"
   ]
  },
  {
   "cell_type": "code",
   "execution_count": 24,
   "id": "25823e76",
   "metadata": {},
   "outputs": [
    {
     "data": {
      "text/html": [
       "<div>\n",
       "<style scoped>\n",
       "    .dataframe tbody tr th:only-of-type {\n",
       "        vertical-align: middle;\n",
       "    }\n",
       "\n",
       "    .dataframe tbody tr th {\n",
       "        vertical-align: top;\n",
       "    }\n",
       "\n",
       "    .dataframe thead th {\n",
       "        text-align: right;\n",
       "    }\n",
       "</style>\n",
       "<table border=\"1\" class=\"dataframe\">\n",
       "  <thead>\n",
       "    <tr style=\"text-align: right;\">\n",
       "      <th></th>\n",
       "      <th>Credit_History</th>\n",
       "      <th>Dependents</th>\n",
       "      <th>Education</th>\n",
       "      <th>Gender</th>\n",
       "      <th>Loan_Status</th>\n",
       "      <th>Married</th>\n",
       "      <th>Property_Area</th>\n",
       "      <th>Self_Employed</th>\n",
       "    </tr>\n",
       "  </thead>\n",
       "  <tbody>\n",
       "    <tr>\n",
       "      <th>0</th>\n",
       "      <td>1.0</td>\n",
       "      <td>0</td>\n",
       "      <td>Graduate</td>\n",
       "      <td>Male</td>\n",
       "      <td>Y</td>\n",
       "      <td>No</td>\n",
       "      <td>Urban</td>\n",
       "      <td>No</td>\n",
       "    </tr>\n",
       "    <tr>\n",
       "      <th>1</th>\n",
       "      <td>1.0</td>\n",
       "      <td>1</td>\n",
       "      <td>Graduate</td>\n",
       "      <td>Male</td>\n",
       "      <td>N</td>\n",
       "      <td>Yes</td>\n",
       "      <td>Rural</td>\n",
       "      <td>No</td>\n",
       "    </tr>\n",
       "    <tr>\n",
       "      <th>2</th>\n",
       "      <td>1.0</td>\n",
       "      <td>0</td>\n",
       "      <td>Graduate</td>\n",
       "      <td>Male</td>\n",
       "      <td>Y</td>\n",
       "      <td>Yes</td>\n",
       "      <td>Urban</td>\n",
       "      <td>Yes</td>\n",
       "    </tr>\n",
       "    <tr>\n",
       "      <th>3</th>\n",
       "      <td>1.0</td>\n",
       "      <td>0</td>\n",
       "      <td>Not Graduate</td>\n",
       "      <td>Male</td>\n",
       "      <td>Y</td>\n",
       "      <td>Yes</td>\n",
       "      <td>Urban</td>\n",
       "      <td>No</td>\n",
       "    </tr>\n",
       "    <tr>\n",
       "      <th>4</th>\n",
       "      <td>1.0</td>\n",
       "      <td>0</td>\n",
       "      <td>Graduate</td>\n",
       "      <td>Male</td>\n",
       "      <td>Y</td>\n",
       "      <td>No</td>\n",
       "      <td>Urban</td>\n",
       "      <td>No</td>\n",
       "    </tr>\n",
       "    <tr>\n",
       "      <th>...</th>\n",
       "      <td>...</td>\n",
       "      <td>...</td>\n",
       "      <td>...</td>\n",
       "      <td>...</td>\n",
       "      <td>...</td>\n",
       "      <td>...</td>\n",
       "      <td>...</td>\n",
       "      <td>...</td>\n",
       "    </tr>\n",
       "    <tr>\n",
       "      <th>609</th>\n",
       "      <td>1.0</td>\n",
       "      <td>0</td>\n",
       "      <td>Graduate</td>\n",
       "      <td>Female</td>\n",
       "      <td>Y</td>\n",
       "      <td>No</td>\n",
       "      <td>Rural</td>\n",
       "      <td>No</td>\n",
       "    </tr>\n",
       "    <tr>\n",
       "      <th>610</th>\n",
       "      <td>1.0</td>\n",
       "      <td>3+</td>\n",
       "      <td>Graduate</td>\n",
       "      <td>Male</td>\n",
       "      <td>Y</td>\n",
       "      <td>Yes</td>\n",
       "      <td>Rural</td>\n",
       "      <td>No</td>\n",
       "    </tr>\n",
       "    <tr>\n",
       "      <th>611</th>\n",
       "      <td>1.0</td>\n",
       "      <td>1</td>\n",
       "      <td>Graduate</td>\n",
       "      <td>Male</td>\n",
       "      <td>Y</td>\n",
       "      <td>Yes</td>\n",
       "      <td>Urban</td>\n",
       "      <td>No</td>\n",
       "    </tr>\n",
       "    <tr>\n",
       "      <th>612</th>\n",
       "      <td>1.0</td>\n",
       "      <td>2</td>\n",
       "      <td>Graduate</td>\n",
       "      <td>Male</td>\n",
       "      <td>Y</td>\n",
       "      <td>Yes</td>\n",
       "      <td>Urban</td>\n",
       "      <td>No</td>\n",
       "    </tr>\n",
       "    <tr>\n",
       "      <th>613</th>\n",
       "      <td>0.0</td>\n",
       "      <td>0</td>\n",
       "      <td>Graduate</td>\n",
       "      <td>Female</td>\n",
       "      <td>N</td>\n",
       "      <td>No</td>\n",
       "      <td>Semiurban</td>\n",
       "      <td>Yes</td>\n",
       "    </tr>\n",
       "  </tbody>\n",
       "</table>\n",
       "<p>614 rows × 8 columns</p>\n",
       "</div>"
      ],
      "text/plain": [
       "     Credit_History Dependents     Education  Gender Loan_Status Married  \\\n",
       "0               1.0          0      Graduate    Male           Y      No   \n",
       "1               1.0          1      Graduate    Male           N     Yes   \n",
       "2               1.0          0      Graduate    Male           Y     Yes   \n",
       "3               1.0          0  Not Graduate    Male           Y     Yes   \n",
       "4               1.0          0      Graduate    Male           Y      No   \n",
       "..              ...        ...           ...     ...         ...     ...   \n",
       "609             1.0          0      Graduate  Female           Y      No   \n",
       "610             1.0         3+      Graduate    Male           Y     Yes   \n",
       "611             1.0          1      Graduate    Male           Y     Yes   \n",
       "612             1.0          2      Graduate    Male           Y     Yes   \n",
       "613             0.0          0      Graduate  Female           N      No   \n",
       "\n",
       "    Property_Area Self_Employed  \n",
       "0           Urban            No  \n",
       "1           Rural            No  \n",
       "2           Urban           Yes  \n",
       "3           Urban            No  \n",
       "4           Urban            No  \n",
       "..            ...           ...  \n",
       "609         Rural            No  \n",
       "610         Rural            No  \n",
       "611         Urban            No  \n",
       "612         Urban            No  \n",
       "613     Semiurban           Yes  \n",
       "\n",
       "[614 rows x 8 columns]"
      ]
     },
     "execution_count": 24,
     "metadata": {},
     "output_type": "execute_result"
    }
   ],
   "source": [
    "cat_vars = data[['Credit_History', 'Dependents', 'Education', 'Gender', 'Loan_Status', 'Married', 'Property_Area', 'Self_Employed']]\n",
    "cat_vars"
   ]
  },
  {
   "cell_type": "code",
   "execution_count": 25,
   "id": "5782a52c",
   "metadata": {
    "scrolled": false
   },
   "outputs": [
    {
     "data": {
      "image/png": "[encoded data removed]",
      "text/plain": [
       "<Figure size 432x288 with 1 Axes>"
      ]
     },
     "metadata": {
      "needs_background": "light"
     },
     "output_type": "display_data"
    },
    {
     "data": {
      "image/png": "[encoded data removed]",
      "text/plain": [
       "<Figure size 432x288 with 1 Axes>"
      ]
     },
     "metadata": {
      "needs_background": "light"
     },
     "output_type": "display_data"
    },
    {
     "data": {
      "image/png": "[encoded data removed]",
      "text/plain": [
       "<Figure size 432x288 with 1 Axes>"
      ]
     },
     "metadata": {
      "needs_background": "light"
     },
     "output_type": "display_data"
    },
    {
     "data": {
      "image/png": "[encoded data removed]",
      "text/plain": [
       "<Figure size 432x288 with 1 Axes>"
      ]
     },
     "metadata": {
      "needs_background": "light"
     },
     "output_type": "display_data"
    },
    {
     "data": {
      "image/png": "[encoded data removed]",
      "text/plain": [
       "<Figure size 432x288 with 1 Axes>"
      ]
     },
     "metadata": {
      "needs_background": "light"
     },
     "output_type": "display_data"
    },
    {
     "data": {
      "image/png": "[encoded data removed]",
      "text/plain": [
       "<Figure size 432x288 with 1 Axes>"
      ]
     },
     "metadata": {
      "needs_background": "light"
     },
     "output_type": "display_data"
    },
    {
     "data": {
      "image/png": "[encoded data removed]",
      "text/plain": [
       "<Figure size 432x288 with 1 Axes>"
      ]
     },
     "metadata": {
      "needs_background": "light"
     },
     "output_type": "display_data"
    },
    {
     "data": {
      "image/png": "[encoded data removed]",
      "text/plain": [
       "<Figure size 432x288 with 1 Axes>"
      ]
     },
     "metadata": {
      "needs_background": "light"
     },
     "output_type": "display_data"
    }
   ],
   "source": [
    "# Looking at the data distribution for different values.\n",
    "plt.rcParams['figure.figsize'] = (6, 4)\n",
    "for i in cat_vars:\n",
    "    sns.countplot(x = cat_vars[i])\n",
    "    plt.show()"
   ]
  },
  {
   "cell_type": "code",
   "execution_count": 26,
   "id": "c23f7a05",
   "metadata": {
    "scrolled": true
   },
   "outputs": [
    {
     "name": "stdout",
     "output_type": "stream",
     "text": [
      "1.0    475\n",
      "0.0     89\n",
      "Name: Credit_History, dtype: int64\n",
      "---------\n",
      "\n",
      "0     345\n",
      "1     102\n",
      "2     101\n",
      "3+     51\n",
      "Name: Dependents, dtype: int64\n",
      "---------\n",
      "\n",
      "Graduate        480\n",
      "Not Graduate    134\n",
      "Name: Education, dtype: int64\n",
      "---------\n",
      "\n",
      "Male      489\n",
      "Female    112\n",
      "Name: Gender, dtype: int64\n",
      "---------\n",
      "\n",
      "Y    422\n",
      "N    192\n",
      "Name: Loan_Status, dtype: int64\n",
      "---------\n",
      "\n",
      "Yes    398\n",
      "No     213\n",
      "Name: Married, dtype: int64\n",
      "---------\n",
      "\n",
      "Semiurban    233\n",
      "Urban        202\n",
      "Rural        179\n",
      "Name: Property_Area, dtype: int64\n",
      "---------\n",
      "\n",
      "No     500\n",
      "Yes     82\n",
      "Name: Self_Employed, dtype: int64\n",
      "---------\n",
      "\n"
     ]
    }
   ],
   "source": [
    "# Count values of different values for each variables.\n",
    "for i in cat_vars:\n",
    "    print(cat_vars[i].value_counts(), end = '\\n---------\\n\\n')"
   ]
  },
  {
   "cell_type": "code",
   "execution_count": 27,
   "id": "755796ba",
   "metadata": {},
   "outputs": [],
   "source": [
    "# The values in the features contains some special characters which are to be treated."
   ]
  },
  {
   "cell_type": "code",
   "execution_count": 28,
   "id": "18505744",
   "metadata": {},
   "outputs": [],
   "source": [
    "cat_vars.Dependents = np.where(cat_vars.Dependents == '3+', '3_or_more', cat_vars.Dependents)\n",
    "\n",
    "cat_vars.Education = np.where(cat_vars.Education == 'Not Graduate', 'Not_Graduate', cat_vars.Education)"
   ]
  },
  {
   "cell_type": "code",
   "execution_count": 29,
   "id": "394018e7",
   "metadata": {
    "scrolled": false
   },
   "outputs": [
    {
     "name": "stdout",
     "output_type": "stream",
     "text": [
      "1.0    475\n",
      "0.0     89\n",
      "Name: Credit_History, dtype: int64\n",
      "---------\n",
      "\n",
      "0            345\n",
      "1            102\n",
      "2            101\n",
      "3_or_more     51\n",
      "Name: Dependents, dtype: int64\n",
      "---------\n",
      "\n",
      "Graduate        480\n",
      "Not_Graduate    134\n",
      "Name: Education, dtype: int64\n",
      "---------\n",
      "\n",
      "Male      489\n",
      "Female    112\n",
      "Name: Gender, dtype: int64\n",
      "---------\n",
      "\n",
      "Y    422\n",
      "N    192\n",
      "Name: Loan_Status, dtype: int64\n",
      "---------\n",
      "\n",
      "Yes    398\n",
      "No     213\n",
      "Name: Married, dtype: int64\n",
      "---------\n",
      "\n",
      "Semiurban    233\n",
      "Urban        202\n",
      "Rural        179\n",
      "Name: Property_Area, dtype: int64\n",
      "---------\n",
      "\n",
      "No     500\n",
      "Yes     82\n",
      "Name: Self_Employed, dtype: int64\n",
      "---------\n",
      "\n"
     ]
    }
   ],
   "source": [
    "# Count values of different values for each variables.\n",
    "for i in cat_vars:\n",
    "    print(cat_vars[i].value_counts(), end = '\\n---------\\n\\n')"
   ]
  },
  {
   "cell_type": "markdown",
   "id": "5b4ee149",
   "metadata": {},
   "source": [
    "### 1.3.2. Handling Missing values."
   ]
  },
  {
   "cell_type": "markdown",
   "id": "b597bb98",
   "metadata": {},
   "source": [
    "#### 1.3.2.1. Looking for presense of missing values."
   ]
  },
  {
   "cell_type": "code",
   "execution_count": 30,
   "id": "58f37336",
   "metadata": {},
   "outputs": [
    {
     "name": "stdout",
     "output_type": "stream",
     "text": [
      "Credit_History: 50\n",
      "Dependents: 15\n",
      "Education: 0\n",
      "Gender: 13\n",
      "Loan_Status: 0\n",
      "Married: 3\n",
      "Property_Area: 0\n",
      "Self_Employed: 32\n"
     ]
    }
   ],
   "source": [
    "for i in cat_vars:\n",
    "    print(f'{i}: {cat_vars.shape[0] - cat_vars[i].count()}')"
   ]
  },
  {
   "cell_type": "markdown",
   "id": "13121bb5",
   "metadata": {},
   "source": [
    "There are few missing values.\n",
    "Here also we are currently dropping these data points. It could also have been filled with mode values."
   ]
  },
  {
   "cell_type": "code",
   "execution_count": 31,
   "id": "6f9d3c8a",
   "metadata": {},
   "outputs": [],
   "source": [
    "cat_vars = cat_vars.dropna()"
   ]
  },
  {
   "cell_type": "code",
   "execution_count": 32,
   "id": "f0610b1b",
   "metadata": {},
   "outputs": [
    {
     "name": "stdout",
     "output_type": "stream",
     "text": [
      "Credit_History: 0\n",
      "Dependents: 0\n",
      "Education: 0\n",
      "Gender: 0\n",
      "Loan_Status: 0\n",
      "Married: 0\n",
      "Property_Area: 0\n",
      "Self_Employed: 0\n"
     ]
    }
   ],
   "source": [
    "for i in cat_vars:\n",
    "    print(f'{i}: {cat_vars.shape[0] - cat_vars[i].count()}')"
   ]
  },
  {
   "cell_type": "code",
   "execution_count": 33,
   "id": "067806f0",
   "metadata": {},
   "outputs": [],
   "source": [
    "# Changing dtype of necessary variable/s.\n",
    "cat_vars.Credit_History = cat_vars.Credit_History.astype('int64')"
   ]
  },
  {
   "cell_type": "markdown",
   "id": "cdbb6b64",
   "metadata": {},
   "source": [
    "### 1.3.3. Transforming categorical variables."
   ]
  },
  {
   "cell_type": "markdown",
   "id": "16075da3",
   "metadata": {},
   "source": [
    "#### 1.3.3.1. Creating Dummies for Categorical variables."
   ]
  },
  {
   "cell_type": "code",
   "execution_count": 34,
   "id": "544b0e76",
   "metadata": {},
   "outputs": [],
   "source": [
    "cat_data = cat_vars.copy()"
   ]
  },
  {
   "cell_type": "code",
   "execution_count": 35,
   "id": "7cb38a9b",
   "metadata": {
    "scrolled": true
   },
   "outputs": [],
   "source": [
    "cat_data = pd.get_dummies(cat_data, drop_first = True)"
   ]
  },
  {
   "cell_type": "code",
   "execution_count": 36,
   "id": "75db33e0",
   "metadata": {},
   "outputs": [
    {
     "data": {
      "text/html": [
       "<div>\n",
       "<style scoped>\n",
       "    .dataframe tbody tr th:only-of-type {\n",
       "        vertical-align: middle;\n",
       "    }\n",
       "\n",
       "    .dataframe tbody tr th {\n",
       "        vertical-align: top;\n",
       "    }\n",
       "\n",
       "    .dataframe thead th {\n",
       "        text-align: right;\n",
       "    }\n",
       "</style>\n",
       "<table border=\"1\" class=\"dataframe\">\n",
       "  <thead>\n",
       "    <tr style=\"text-align: right;\">\n",
       "      <th></th>\n",
       "      <th>Credit_History</th>\n",
       "      <th>Dependents_1</th>\n",
       "      <th>Dependents_2</th>\n",
       "      <th>Dependents_3_or_more</th>\n",
       "      <th>Education_Not_Graduate</th>\n",
       "      <th>Gender_Male</th>\n",
       "      <th>Loan_Status_Y</th>\n",
       "      <th>Married_Yes</th>\n",
       "      <th>Property_Area_Semiurban</th>\n",
       "      <th>Property_Area_Urban</th>\n",
       "      <th>Self_Employed_Yes</th>\n",
       "    </tr>\n",
       "  </thead>\n",
       "  <tbody>\n",
       "    <tr>\n",
       "      <th>0</th>\n",
       "      <td>1</td>\n",
       "      <td>0</td>\n",
       "      <td>0</td>\n",
       "      <td>0</td>\n",
       "      <td>0</td>\n",
       "      <td>1</td>\n",
       "      <td>1</td>\n",
       "      <td>0</td>\n",
       "      <td>0</td>\n",
       "      <td>1</td>\n",
       "      <td>0</td>\n",
       "    </tr>\n",
       "    <tr>\n",
       "      <th>1</th>\n",
       "      <td>1</td>\n",
       "      <td>1</td>\n",
       "      <td>0</td>\n",
       "      <td>0</td>\n",
       "      <td>0</td>\n",
       "      <td>1</td>\n",
       "      <td>0</td>\n",
       "      <td>1</td>\n",
       "      <td>0</td>\n",
       "      <td>0</td>\n",
       "      <td>0</td>\n",
       "    </tr>\n",
       "    <tr>\n",
       "      <th>2</th>\n",
       "      <td>1</td>\n",
       "      <td>0</td>\n",
       "      <td>0</td>\n",
       "      <td>0</td>\n",
       "      <td>0</td>\n",
       "      <td>1</td>\n",
       "      <td>1</td>\n",
       "      <td>1</td>\n",
       "      <td>0</td>\n",
       "      <td>1</td>\n",
       "      <td>1</td>\n",
       "    </tr>\n",
       "    <tr>\n",
       "      <th>3</th>\n",
       "      <td>1</td>\n",
       "      <td>0</td>\n",
       "      <td>0</td>\n",
       "      <td>0</td>\n",
       "      <td>1</td>\n",
       "      <td>1</td>\n",
       "      <td>1</td>\n",
       "      <td>1</td>\n",
       "      <td>0</td>\n",
       "      <td>1</td>\n",
       "      <td>0</td>\n",
       "    </tr>\n",
       "    <tr>\n",
       "      <th>4</th>\n",
       "      <td>1</td>\n",
       "      <td>0</td>\n",
       "      <td>0</td>\n",
       "      <td>0</td>\n",
       "      <td>0</td>\n",
       "      <td>1</td>\n",
       "      <td>1</td>\n",
       "      <td>0</td>\n",
       "      <td>0</td>\n",
       "      <td>1</td>\n",
       "      <td>0</td>\n",
       "    </tr>\n",
       "    <tr>\n",
       "      <th>...</th>\n",
       "      <td>...</td>\n",
       "      <td>...</td>\n",
       "      <td>...</td>\n",
       "      <td>...</td>\n",
       "      <td>...</td>\n",
       "      <td>...</td>\n",
       "      <td>...</td>\n",
       "      <td>...</td>\n",
       "      <td>...</td>\n",
       "      <td>...</td>\n",
       "      <td>...</td>\n",
       "    </tr>\n",
       "    <tr>\n",
       "      <th>609</th>\n",
       "      <td>1</td>\n",
       "      <td>0</td>\n",
       "      <td>0</td>\n",
       "      <td>0</td>\n",
       "      <td>0</td>\n",
       "      <td>0</td>\n",
       "      <td>1</td>\n",
       "      <td>0</td>\n",
       "      <td>0</td>\n",
       "      <td>0</td>\n",
       "      <td>0</td>\n",
       "    </tr>\n",
       "    <tr>\n",
       "      <th>610</th>\n",
       "      <td>1</td>\n",
       "      <td>0</td>\n",
       "      <td>0</td>\n",
       "      <td>1</td>\n",
       "      <td>0</td>\n",
       "      <td>1</td>\n",
       "      <td>1</td>\n",
       "      <td>1</td>\n",
       "      <td>0</td>\n",
       "      <td>0</td>\n",
       "      <td>0</td>\n",
       "    </tr>\n",
       "    <tr>\n",
       "      <th>611</th>\n",
       "      <td>1</td>\n",
       "      <td>1</td>\n",
       "      <td>0</td>\n",
       "      <td>0</td>\n",
       "      <td>0</td>\n",
       "      <td>1</td>\n",
       "      <td>1</td>\n",
       "      <td>1</td>\n",
       "      <td>0</td>\n",
       "      <td>1</td>\n",
       "      <td>0</td>\n",
       "    </tr>\n",
       "    <tr>\n",
       "      <th>612</th>\n",
       "      <td>1</td>\n",
       "      <td>0</td>\n",
       "      <td>1</td>\n",
       "      <td>0</td>\n",
       "      <td>0</td>\n",
       "      <td>1</td>\n",
       "      <td>1</td>\n",
       "      <td>1</td>\n",
       "      <td>0</td>\n",
       "      <td>1</td>\n",
       "      <td>0</td>\n",
       "    </tr>\n",
       "    <tr>\n",
       "      <th>613</th>\n",
       "      <td>0</td>\n",
       "      <td>0</td>\n",
       "      <td>0</td>\n",
       "      <td>0</td>\n",
       "      <td>0</td>\n",
       "      <td>0</td>\n",
       "      <td>0</td>\n",
       "      <td>0</td>\n",
       "      <td>1</td>\n",
       "      <td>0</td>\n",
       "      <td>1</td>\n",
       "    </tr>\n",
       "  </tbody>\n",
       "</table>\n",
       "<p>511 rows × 11 columns</p>\n",
       "</div>"
      ],
      "text/plain": [
       "     Credit_History  Dependents_1  Dependents_2  Dependents_3_or_more  \\\n",
       "0                 1             0             0                     0   \n",
       "1                 1             1             0                     0   \n",
       "2                 1             0             0                     0   \n",
       "3                 1             0             0                     0   \n",
       "4                 1             0             0                     0   \n",
       "..              ...           ...           ...                   ...   \n",
       "609               1             0             0                     0   \n",
       "610               1             0             0                     1   \n",
       "611               1             1             0                     0   \n",
       "612               1             0             1                     0   \n",
       "613               0             0             0                     0   \n",
       "\n",
       "     Education_Not_Graduate  Gender_Male  Loan_Status_Y  Married_Yes  \\\n",
       "0                         0            1              1            0   \n",
       "1                         0            1              0            1   \n",
       "2                         0            1              1            1   \n",
       "3                         1            1              1            1   \n",
       "4                         0            1              1            0   \n",
       "..                      ...          ...            ...          ...   \n",
       "609                       0            0              1            0   \n",
       "610                       0            1              1            1   \n",
       "611                       0            1              1            1   \n",
       "612                       0            1              1            1   \n",
       "613                       0            0              0            0   \n",
       "\n",
       "     Property_Area_Semiurban  Property_Area_Urban  Self_Employed_Yes  \n",
       "0                          0                    1                  0  \n",
       "1                          0                    0                  0  \n",
       "2                          0                    1                  1  \n",
       "3                          0                    1                  0  \n",
       "4                          0                    1                  0  \n",
       "..                       ...                  ...                ...  \n",
       "609                        0                    0                  0  \n",
       "610                        0                    0                  0  \n",
       "611                        0                    1                  0  \n",
       "612                        0                    1                  0  \n",
       "613                        1                    0                  1  \n",
       "\n",
       "[511 rows x 11 columns]"
      ]
     },
     "execution_count": 36,
     "metadata": {},
     "output_type": "execute_result"
    }
   ],
   "source": [
    "cat_data"
   ]
  },
  {
   "cell_type": "code",
   "execution_count": 37,
   "id": "591076dd",
   "metadata": {},
   "outputs": [
    {
     "data": {
      "text/plain": [
       "<AxesSubplot:>"
      ]
     },
     "execution_count": 37,
     "metadata": {},
     "output_type": "execute_result"
    },
    {
     "data": {
      "image/png": "[encoded data removed]",
      "text/plain": [
       "<Figure size 1800x1800 with 2 Axes>"
      ]
     },
     "metadata": {
      "needs_background": "light"
     },
     "output_type": "display_data"
    }
   ],
   "source": [
    "# Finding the correlation.\n",
    "corr = cat_data.corr()\n",
    "\n",
    "# Setting the size of figure.\n",
    "plt.rcParams['figure.figsize'] = (25, 25)\n",
    "\n",
    "# Argument Trimming out the values above the main diagonal.\n",
    "mask = np.triu(corr)\n",
    "\n",
    "# Setting low correlation value to 0.\n",
    "corr[(corr.values < 0.3) & (corr.values > -0.3)] = 0\n",
    "\n",
    "# Plotting the heatmap.\n",
    "sns.heatmap(corr, annot = True, fmt = '.2f', mask = mask)"
   ]
  },
  {
   "cell_type": "markdown",
   "id": "b53c4dad",
   "metadata": {},
   "source": [
    "### I.4. Merging numerical and categorical variables."
   ]
  },
  {
   "cell_type": "code",
   "execution_count": 38,
   "id": "a856fecc",
   "metadata": {},
   "outputs": [],
   "source": [
    "cont_data.reset_index(inplace = True)\n",
    "cat_data.reset_index(inplace = True)"
   ]
  },
  {
   "cell_type": "code",
   "execution_count": 39,
   "id": "32274a35",
   "metadata": {},
   "outputs": [
    {
     "data": {
      "text/plain": [
       "(480, 16)"
      ]
     },
     "execution_count": 39,
     "metadata": {},
     "output_type": "execute_result"
    }
   ],
   "source": [
    "# Combining Numerical and Categorical data.\n",
    "final_data = pd.merge(cont_data, cat_data, on = 'index')\n",
    "final_data.drop('index', inplace = True, axis = 1)\n",
    "final_data.shape"
   ]
  },
  {
   "cell_type": "code",
   "execution_count": 40,
   "id": "5867063b",
   "metadata": {},
   "outputs": [
    {
     "data": {
      "text/html": [
       "<div>\n",
       "<style scoped>\n",
       "    .dataframe tbody tr th:only-of-type {\n",
       "        vertical-align: middle;\n",
       "    }\n",
       "\n",
       "    .dataframe tbody tr th {\n",
       "        vertical-align: top;\n",
       "    }\n",
       "\n",
       "    .dataframe thead th {\n",
       "        text-align: right;\n",
       "    }\n",
       "</style>\n",
       "<table border=\"1\" class=\"dataframe\">\n",
       "  <thead>\n",
       "    <tr style=\"text-align: right;\">\n",
       "      <th></th>\n",
       "      <th>ApplicantIncome</th>\n",
       "      <th>CoapplicantIncome</th>\n",
       "      <th>DateOfBirth</th>\n",
       "      <th>LoanAmount</th>\n",
       "      <th>Loan_Amount_Term</th>\n",
       "      <th>Credit_History</th>\n",
       "      <th>Dependents_1</th>\n",
       "      <th>Dependents_2</th>\n",
       "      <th>Dependents_3_or_more</th>\n",
       "      <th>Education_Not_Graduate</th>\n",
       "      <th>Gender_Male</th>\n",
       "      <th>Loan_Status_Y</th>\n",
       "      <th>Married_Yes</th>\n",
       "      <th>Property_Area_Semiurban</th>\n",
       "      <th>Property_Area_Urban</th>\n",
       "      <th>Self_Employed_Yes</th>\n",
       "    </tr>\n",
       "  </thead>\n",
       "  <tbody>\n",
       "    <tr>\n",
       "      <th>0</th>\n",
       "      <td>4583.0</td>\n",
       "      <td>1508.0</td>\n",
       "      <td>33</td>\n",
       "      <td>128.0</td>\n",
       "      <td>360.0</td>\n",
       "      <td>1</td>\n",
       "      <td>1</td>\n",
       "      <td>0</td>\n",
       "      <td>0</td>\n",
       "      <td>0</td>\n",
       "      <td>1</td>\n",
       "      <td>0</td>\n",
       "      <td>1</td>\n",
       "      <td>0</td>\n",
       "      <td>0</td>\n",
       "      <td>0</td>\n",
       "    </tr>\n",
       "    <tr>\n",
       "      <th>1</th>\n",
       "      <td>3000.0</td>\n",
       "      <td>0.0</td>\n",
       "      <td>36</td>\n",
       "      <td>66.0</td>\n",
       "      <td>360.0</td>\n",
       "      <td>1</td>\n",
       "      <td>0</td>\n",
       "      <td>0</td>\n",
       "      <td>0</td>\n",
       "      <td>0</td>\n",
       "      <td>1</td>\n",
       "      <td>1</td>\n",
       "      <td>1</td>\n",
       "      <td>0</td>\n",
       "      <td>1</td>\n",
       "      <td>1</td>\n",
       "    </tr>\n",
       "    <tr>\n",
       "      <th>2</th>\n",
       "      <td>2583.0</td>\n",
       "      <td>2358.0</td>\n",
       "      <td>26</td>\n",
       "      <td>120.0</td>\n",
       "      <td>360.0</td>\n",
       "      <td>1</td>\n",
       "      <td>0</td>\n",
       "      <td>0</td>\n",
       "      <td>0</td>\n",
       "      <td>1</td>\n",
       "      <td>1</td>\n",
       "      <td>1</td>\n",
       "      <td>1</td>\n",
       "      <td>0</td>\n",
       "      <td>1</td>\n",
       "      <td>0</td>\n",
       "    </tr>\n",
       "    <tr>\n",
       "      <th>3</th>\n",
       "      <td>6000.0</td>\n",
       "      <td>0.0</td>\n",
       "      <td>38</td>\n",
       "      <td>141.0</td>\n",
       "      <td>360.0</td>\n",
       "      <td>1</td>\n",
       "      <td>0</td>\n",
       "      <td>0</td>\n",
       "      <td>0</td>\n",
       "      <td>0</td>\n",
       "      <td>1</td>\n",
       "      <td>1</td>\n",
       "      <td>0</td>\n",
       "      <td>0</td>\n",
       "      <td>1</td>\n",
       "      <td>0</td>\n",
       "    </tr>\n",
       "    <tr>\n",
       "      <th>4</th>\n",
       "      <td>5417.0</td>\n",
       "      <td>4196.0</td>\n",
       "      <td>38</td>\n",
       "      <td>267.0</td>\n",
       "      <td>360.0</td>\n",
       "      <td>1</td>\n",
       "      <td>0</td>\n",
       "      <td>1</td>\n",
       "      <td>0</td>\n",
       "      <td>0</td>\n",
       "      <td>1</td>\n",
       "      <td>1</td>\n",
       "      <td>1</td>\n",
       "      <td>0</td>\n",
       "      <td>1</td>\n",
       "      <td>1</td>\n",
       "    </tr>\n",
       "  </tbody>\n",
       "</table>\n",
       "</div>"
      ],
      "text/plain": [
       "   ApplicantIncome  CoapplicantIncome  DateOfBirth  LoanAmount  \\\n",
       "0           4583.0             1508.0           33       128.0   \n",
       "1           3000.0                0.0           36        66.0   \n",
       "2           2583.0             2358.0           26       120.0   \n",
       "3           6000.0                0.0           38       141.0   \n",
       "4           5417.0             4196.0           38       267.0   \n",
       "\n",
       "   Loan_Amount_Term  Credit_History  Dependents_1  Dependents_2  \\\n",
       "0             360.0               1             1             0   \n",
       "1             360.0               1             0             0   \n",
       "2             360.0               1             0             0   \n",
       "3             360.0               1             0             0   \n",
       "4             360.0               1             0             1   \n",
       "\n",
       "   Dependents_3_or_more  Education_Not_Graduate  Gender_Male  Loan_Status_Y  \\\n",
       "0                     0                       0            1              0   \n",
       "1                     0                       0            1              1   \n",
       "2                     0                       1            1              1   \n",
       "3                     0                       0            1              1   \n",
       "4                     0                       0            1              1   \n",
       "\n",
       "   Married_Yes  Property_Area_Semiurban  Property_Area_Urban  \\\n",
       "0            1                        0                    0   \n",
       "1            1                        0                    1   \n",
       "2            1                        0                    1   \n",
       "3            0                        0                    1   \n",
       "4            1                        0                    1   \n",
       "\n",
       "   Self_Employed_Yes  \n",
       "0                  0  \n",
       "1                  1  \n",
       "2                  0  \n",
       "3                  0  \n",
       "4                  1  "
      ]
     },
     "execution_count": 40,
     "metadata": {},
     "output_type": "execute_result"
    }
   ],
   "source": [
    "final_data.head()"
   ]
  },
  {
   "cell_type": "code",
   "execution_count": 41,
   "id": "7af5bcb7",
   "metadata": {},
   "outputs": [
    {
     "data": {
      "text/plain": [
       "<AxesSubplot:>"
      ]
     },
     "execution_count": 41,
     "metadata": {},
     "output_type": "execute_result"
    },
    {
     "data": {
      "image/png": "[encoded data removed]",
      "text/plain": [
       "<Figure size 1800x1800 with 2 Axes>"
      ]
     },
     "metadata": {
      "needs_background": "light"
     },
     "output_type": "display_data"
    }
   ],
   "source": [
    "# Finding the correlation.\n",
    "corr = final_data.corr()\n",
    "\n",
    "# Setting the size of figure.\n",
    "plt.rcParams['figure.figsize'] = (25, 25)\n",
    "\n",
    "# Argument Trimming out the values above the main diagonal.\n",
    "mask = np.triu(corr)\n",
    "\n",
    "# Setting low correlation value to 0.\n",
    "corr[(corr.values < 0.3) & (corr.values > -0.3)] = 0\n",
    "\n",
    "# Plotting the heatmap.\n",
    "sns.heatmap(corr, annot = True, fmt = '.2f', mask = mask)"
   ]
  },
  {
   "cell_type": "markdown",
   "id": "7c1fbdec",
   "metadata": {},
   "source": [
    "# Feature Engineering and Feature Selection"
   ]
  },
  {
   "cell_type": "markdown",
   "id": "5398eb5e",
   "metadata": {},
   "source": [
    "#### Finding and dropping multi-collinear varibles"
   ]
  },
  {
   "cell_type": "markdown",
   "id": "388c9778",
   "metadata": {},
   "source": [
    "For classification based problems, we can either use VIF or Somers'D for finding the important varibles for the model.\n",
    "VIF helps to decrease multi-collinearity, whereas Somers'D helps to find the variable that increases the predictive power of my model."
   ]
  },
  {
   "cell_type": "code",
   "execution_count": 42,
   "id": "921a78f3",
   "metadata": {},
   "outputs": [],
   "source": [
    "# Importing packages for discovering muti-collinear features\n",
    "from statsmodels.stats.outliers_influence import variance_inflation_factor\n",
    "from patsy import dmatrices"
   ]
  },
  {
   "cell_type": "markdown",
   "id": "a059ed1d",
   "metadata": {},
   "source": [
    "## VIF"
   ]
  },
  {
   "cell_type": "code",
   "execution_count": 43,
   "id": "3e2d3555",
   "metadata": {},
   "outputs": [
    {
     "data": {
      "text/plain": [
       "'Loan_Status_Y ~ ApplicantIncome + CoapplicantIncome + Credit_History + DateOfBirth + Dependents_1 + Dependents_2 + Dependents_3_or_more + Education_Not_Graduate + Gender_Male + LoanAmount + Loan_Amount_Term + Married_Yes + Property_Area_Semiurban + Property_Area_Urban + Self_Employed_Yes'"
      ]
     },
     "execution_count": 43,
     "metadata": {},
     "output_type": "execute_result"
    }
   ],
   "source": [
    "# Separating X features from dataset and creating a model-parameter for statistical model building.\n",
    "feature_columns = final_data.columns.difference(['Loan_Status_Y'])\n",
    "model_params = 'Loan_Status_Y ~ ' + ' + '.join(feature_columns)\n",
    "model_params"
   ]
  },
  {
   "cell_type": "code",
   "execution_count": 44,
   "id": "0fcaf9a2",
   "metadata": {},
   "outputs": [],
   "source": [
    "y, X = dmatrices(model_params, final_data, return_type = 'dataframe')"
   ]
  },
  {
   "cell_type": "code",
   "execution_count": 45,
   "id": "6c4a931c",
   "metadata": {},
   "outputs": [
    {
     "data": {
      "text/html": [
       "<div>\n",
       "<style scoped>\n",
       "    .dataframe tbody tr th:only-of-type {\n",
       "        vertical-align: middle;\n",
       "    }\n",
       "\n",
       "    .dataframe tbody tr th {\n",
       "        vertical-align: top;\n",
       "    }\n",
       "\n",
       "    .dataframe thead th {\n",
       "        text-align: right;\n",
       "    }\n",
       "</style>\n",
       "<table border=\"1\" class=\"dataframe\">\n",
       "  <thead>\n",
       "    <tr style=\"text-align: right;\">\n",
       "      <th></th>\n",
       "      <th>Features</th>\n",
       "      <th>VIF_values</th>\n",
       "    </tr>\n",
       "  </thead>\n",
       "  <tbody>\n",
       "    <tr>\n",
       "      <th>0</th>\n",
       "      <td>Intercept</td>\n",
       "      <td>89.927251</td>\n",
       "    </tr>\n",
       "    <tr>\n",
       "      <th>1</th>\n",
       "      <td>ApplicantIncome</td>\n",
       "      <td>2.053923</td>\n",
       "    </tr>\n",
       "    <tr>\n",
       "      <th>2</th>\n",
       "      <td>CoapplicantIncome</td>\n",
       "      <td>1.433683</td>\n",
       "    </tr>\n",
       "    <tr>\n",
       "      <th>3</th>\n",
       "      <td>Credit_History</td>\n",
       "      <td>1.022391</td>\n",
       "    </tr>\n",
       "    <tr>\n",
       "      <th>4</th>\n",
       "      <td>DateOfBirth</td>\n",
       "      <td>1.021419</td>\n",
       "    </tr>\n",
       "    <tr>\n",
       "      <th>5</th>\n",
       "      <td>Dependents_1</td>\n",
       "      <td>1.215928</td>\n",
       "    </tr>\n",
       "    <tr>\n",
       "      <th>6</th>\n",
       "      <td>Dependents_2</td>\n",
       "      <td>1.261236</td>\n",
       "    </tr>\n",
       "    <tr>\n",
       "      <th>7</th>\n",
       "      <td>Dependents_3_or_more</td>\n",
       "      <td>1.184701</td>\n",
       "    </tr>\n",
       "    <tr>\n",
       "      <th>8</th>\n",
       "      <td>Education_Not_Graduate</td>\n",
       "      <td>1.094175</td>\n",
       "    </tr>\n",
       "    <tr>\n",
       "      <th>9</th>\n",
       "      <td>Gender_Male</td>\n",
       "      <td>1.219645</td>\n",
       "    </tr>\n",
       "    <tr>\n",
       "      <th>10</th>\n",
       "      <td>LoanAmount</td>\n",
       "      <td>1.990281</td>\n",
       "    </tr>\n",
       "    <tr>\n",
       "      <th>11</th>\n",
       "      <td>Loan_Amount_Term</td>\n",
       "      <td>1.059884</td>\n",
       "    </tr>\n",
       "    <tr>\n",
       "      <th>12</th>\n",
       "      <td>Married_Yes</td>\n",
       "      <td>1.398444</td>\n",
       "    </tr>\n",
       "    <tr>\n",
       "      <th>13</th>\n",
       "      <td>Property_Area_Semiurban</td>\n",
       "      <td>1.477235</td>\n",
       "    </tr>\n",
       "    <tr>\n",
       "      <th>14</th>\n",
       "      <td>Property_Area_Urban</td>\n",
       "      <td>1.508752</td>\n",
       "    </tr>\n",
       "    <tr>\n",
       "      <th>15</th>\n",
       "      <td>Self_Employed_Yes</td>\n",
       "      <td>1.100652</td>\n",
       "    </tr>\n",
       "  </tbody>\n",
       "</table>\n",
       "</div>"
      ],
      "text/plain": [
       "                   Features  VIF_values\n",
       "0                 Intercept   89.927251\n",
       "1           ApplicantIncome    2.053923\n",
       "2         CoapplicantIncome    1.433683\n",
       "3            Credit_History    1.022391\n",
       "4               DateOfBirth    1.021419\n",
       "5              Dependents_1    1.215928\n",
       "6              Dependents_2    1.261236\n",
       "7      Dependents_3_or_more    1.184701\n",
       "8    Education_Not_Graduate    1.094175\n",
       "9               Gender_Male    1.219645\n",
       "10               LoanAmount    1.990281\n",
       "11         Loan_Amount_Term    1.059884\n",
       "12              Married_Yes    1.398444\n",
       "13  Property_Area_Semiurban    1.477235\n",
       "14      Property_Area_Urban    1.508752\n",
       "15        Self_Employed_Yes    1.100652"
      ]
     },
     "execution_count": 45,
     "metadata": {},
     "output_type": "execute_result"
    }
   ],
   "source": [
    "# Finding the VIF values and creating a dataframe to store these values corresponding to features name.\n",
    "mul = pd.DataFrame()\n",
    "mul['Features'] = X.columns\n",
    "\n",
    "mul['VIF_values'] = [variance_inflation_factor(X.values, i) for i in range(X.shape[1])]\n",
    "mul"
   ]
  },
  {
   "cell_type": "code",
   "execution_count": 46,
   "id": "3de9523d",
   "metadata": {},
   "outputs": [
    {
     "data": {
      "text/html": [
       "<div>\n",
       "<style scoped>\n",
       "    .dataframe tbody tr th:only-of-type {\n",
       "        vertical-align: middle;\n",
       "    }\n",
       "\n",
       "    .dataframe tbody tr th {\n",
       "        vertical-align: top;\n",
       "    }\n",
       "\n",
       "    .dataframe thead th {\n",
       "        text-align: right;\n",
       "    }\n",
       "</style>\n",
       "<table border=\"1\" class=\"dataframe\">\n",
       "  <thead>\n",
       "    <tr style=\"text-align: right;\">\n",
       "      <th></th>\n",
       "      <th>Features</th>\n",
       "      <th>VIF_values</th>\n",
       "    </tr>\n",
       "  </thead>\n",
       "  <tbody>\n",
       "    <tr>\n",
       "      <th>0</th>\n",
       "      <td>Intercept</td>\n",
       "      <td>89.927251</td>\n",
       "    </tr>\n",
       "    <tr>\n",
       "      <th>1</th>\n",
       "      <td>ApplicantIncome</td>\n",
       "      <td>2.053923</td>\n",
       "    </tr>\n",
       "    <tr>\n",
       "      <th>2</th>\n",
       "      <td>LoanAmount</td>\n",
       "      <td>1.990281</td>\n",
       "    </tr>\n",
       "    <tr>\n",
       "      <th>3</th>\n",
       "      <td>Property_Area_Urban</td>\n",
       "      <td>1.508752</td>\n",
       "    </tr>\n",
       "  </tbody>\n",
       "</table>\n",
       "</div>"
      ],
      "text/plain": [
       "              Features  VIF_values\n",
       "0            Intercept   89.927251\n",
       "1      ApplicantIncome    2.053923\n",
       "2           LoanAmount    1.990281\n",
       "3  Property_Area_Urban    1.508752"
      ]
     },
     "execution_count": 46,
     "metadata": {},
     "output_type": "execute_result"
    }
   ],
   "source": [
    "# Finding the variables based on the cut-off value for VIF.\n",
    "# Theoretically, the value should be more than 5 but practically it is taken as more than 4.\n",
    "# However, any value (4 or 5) is correct based on the business problems.\n",
    "# Here, all the values are between 1 and 2. So, we are using 1.5 as cut-off\n",
    "\n",
    "f_data = mul[mul.VIF_values > 1.5].reset_index(drop = True)\n",
    "f_data"
   ]
  },
  {
   "cell_type": "code",
   "execution_count": 47,
   "id": "1d1e1c07",
   "metadata": {
    "scrolled": false
   },
   "outputs": [
    {
     "data": {
      "text/plain": [
       "<AxesSubplot:>"
      ]
     },
     "execution_count": 47,
     "metadata": {},
     "output_type": "execute_result"
    },
    {
     "data": {
      "image/png": "[encoded data removed]",
      "text/plain": [
       "<Figure size 360x360 with 2 Axes>"
      ]
     },
     "metadata": {
      "needs_background": "light"
     },
     "output_type": "display_data"
    }
   ],
   "source": [
    "# Finding the correlation.\n",
    "corr = final_data[f_data.Features[1:]].corr()\n",
    "\n",
    "# Setting the size of figure.\n",
    "plt.rcParams['figure.figsize'] = (5, 5)\n",
    "\n",
    "# Argument Trimming out the values above the main diagonal.\n",
    "mask = np.triu(corr)\n",
    "\n",
    "# Setting low correlation value to 0.\n",
    "corr[(corr.values < 0.3) & (corr.values > -0.3)] = 0\n",
    "\n",
    "# Plotting the heatmap.\n",
    "sns.heatmap(corr, annot = True, fmt = '.2f', mask = mask)"
   ]
  },
  {
   "cell_type": "markdown",
   "id": "be852a52",
   "metadata": {},
   "source": [
    "## Somers'D score"
   ]
  },
  {
   "cell_type": "code",
   "execution_count": 48,
   "id": "16b0fe00",
   "metadata": {},
   "outputs": [
    {
     "data": {
      "text/plain": [
       "Index(['ApplicantIncome', 'CoapplicantIncome', 'Credit_History', 'DateOfBirth',\n",
       "       'Dependents_1', 'Dependents_2', 'Dependents_3_or_more',\n",
       "       'Education_Not_Graduate', 'Gender_Male', 'LoanAmount',\n",
       "       'Loan_Amount_Term', 'Married_Yes', 'Property_Area_Semiurban',\n",
       "       'Property_Area_Urban', 'Self_Employed_Yes'],\n",
       "      dtype='object')"
      ]
     },
     "execution_count": 48,
     "metadata": {},
     "output_type": "execute_result"
    }
   ],
   "source": [
    "# Separating X features from dataset and creating a model-parameter for statistical model building.\n",
    "feature_columns = final_data.columns.difference(['Loan_Status_Y'])\n",
    "feature_columns"
   ]
  },
  {
   "cell_type": "code",
   "execution_count": 49,
   "id": "58f6cea1",
   "metadata": {
    "scrolled": false
   },
   "outputs": [
    {
     "name": "stdout",
     "output_type": "stream",
     "text": [
      "Optimization terminated successfully.\n",
      "         Current function value: 0.617644\n",
      "         Iterations 5\n",
      "Optimization terminated successfully.\n",
      "         Current function value: 0.617722\n",
      "         Iterations 5\n",
      "Optimization terminated successfully.\n",
      "         Current function value: 0.483358\n",
      "         Iterations 6\n",
      "Optimization terminated successfully.\n",
      "         Current function value: 0.617755\n",
      "         Iterations 4\n",
      "Optimization terminated successfully.\n",
      "         Current function value: 0.616961\n",
      "         Iterations 5\n",
      "Optimization terminated successfully.\n",
      "         Current function value: 0.614959\n",
      "         Iterations 5\n",
      "Optimization terminated successfully.\n",
      "         Current function value: 0.617744\n",
      "         Iterations 5\n",
      "Optimization terminated successfully.\n",
      "         Current function value: 0.615476\n",
      "         Iterations 5\n",
      "Optimization terminated successfully.\n",
      "         Current function value: 0.615734\n",
      "         Iterations 5\n",
      "Optimization terminated successfully.\n",
      "         Current function value: 0.615277\n",
      "         Iterations 5\n",
      "Optimization terminated successfully.\n",
      "         Current function value: 0.617730\n",
      "         Iterations 5\n",
      "Optimization terminated successfully.\n",
      "         Current function value: 0.611546\n",
      "         Iterations 5\n",
      "Optimization terminated successfully.\n",
      "         Current function value: 0.605314\n",
      "         Iterations 5\n",
      "Optimization terminated successfully.\n",
      "         Current function value: 0.616212\n",
      "         Iterations 5\n",
      "Optimization terminated successfully.\n",
      "         Current function value: 0.617169\n",
      "         Iterations 5\n"
     ]
    }
   ],
   "source": [
    "# Finding out the Somers'D value foreach variables.\n",
    "col = list()\n",
    "score = list()\n",
    "for i in feature_columns:\n",
    "    model_params = f'Loan_Status_Y ~ {i}'\n",
    "    log_reg = smf.logit(model_params, final_data).fit()\n",
    "    somersD = 2 * metrics.roc_auc_score(final_data['Loan_Status_Y'], log_reg.predict(final_data)) - 1   \n",
    "    col.append(i)\n",
    "    score.append(somersD)"
   ]
  },
  {
   "cell_type": "code",
   "execution_count": 50,
   "id": "ac99960d",
   "metadata": {
    "scrolled": false
   },
   "outputs": [
    {
     "data": {
      "text/html": [
       "<div>\n",
       "<style scoped>\n",
       "    .dataframe tbody tr th:only-of-type {\n",
       "        vertical-align: middle;\n",
       "    }\n",
       "\n",
       "    .dataframe tbody tr th {\n",
       "        vertical-align: top;\n",
       "    }\n",
       "\n",
       "    .dataframe thead th {\n",
       "        text-align: right;\n",
       "    }\n",
       "</style>\n",
       "<table border=\"1\" class=\"dataframe\">\n",
       "  <thead>\n",
       "    <tr style=\"text-align: right;\">\n",
       "      <th></th>\n",
       "      <th>Column_name</th>\n",
       "      <th>SomersD_value</th>\n",
       "    </tr>\n",
       "  </thead>\n",
       "  <tbody>\n",
       "    <tr>\n",
       "      <th>0</th>\n",
       "      <td>ApplicantIncome</td>\n",
       "      <td>0.011295</td>\n",
       "    </tr>\n",
       "    <tr>\n",
       "      <th>1</th>\n",
       "      <td>CoapplicantIncome</td>\n",
       "      <td>0.038485</td>\n",
       "    </tr>\n",
       "    <tr>\n",
       "      <th>2</th>\n",
       "      <td>Credit_History</td>\n",
       "      <td>0.404591</td>\n",
       "    </tr>\n",
       "    <tr>\n",
       "      <th>3</th>\n",
       "      <td>DateOfBirth</td>\n",
       "      <td>0.001221</td>\n",
       "    </tr>\n",
       "    <tr>\n",
       "      <th>4</th>\n",
       "      <td>Dependents_1</td>\n",
       "      <td>0.032563</td>\n",
       "    </tr>\n",
       "    <tr>\n",
       "      <th>5</th>\n",
       "      <td>Dependents_2</td>\n",
       "      <td>0.060648</td>\n",
       "    </tr>\n",
       "    <tr>\n",
       "      <th>6</th>\n",
       "      <td>Dependents_3_or_more</td>\n",
       "      <td>0.003500</td>\n",
       "    </tr>\n",
       "    <tr>\n",
       "      <th>7</th>\n",
       "      <td>Education_Not_Graduate</td>\n",
       "      <td>0.059508</td>\n",
       "    </tr>\n",
       "    <tr>\n",
       "      <th>8</th>\n",
       "      <td>Gender_Male</td>\n",
       "      <td>0.053566</td>\n",
       "    </tr>\n",
       "    <tr>\n",
       "      <th>9</th>\n",
       "      <td>LoanAmount</td>\n",
       "      <td>0.045181</td>\n",
       "    </tr>\n",
       "    <tr>\n",
       "      <th>10</th>\n",
       "      <td>Loan_Amount_Term</td>\n",
       "      <td>0.006614</td>\n",
       "    </tr>\n",
       "    <tr>\n",
       "      <th>11</th>\n",
       "      <td>Married_Yes</td>\n",
       "      <td>0.116167</td>\n",
       "    </tr>\n",
       "    <tr>\n",
       "      <th>12</th>\n",
       "      <td>Property_Area_Semiurban</td>\n",
       "      <td>0.165011</td>\n",
       "    </tr>\n",
       "    <tr>\n",
       "      <th>13</th>\n",
       "      <td>Property_Area_Urban</td>\n",
       "      <td>0.056171</td>\n",
       "    </tr>\n",
       "    <tr>\n",
       "      <th>14</th>\n",
       "      <td>Self_Employed_Yes</td>\n",
       "      <td>0.025887</td>\n",
       "    </tr>\n",
       "  </tbody>\n",
       "</table>\n",
       "</div>"
      ],
      "text/plain": [
       "                Column_name  SomersD_value\n",
       "0           ApplicantIncome       0.011295\n",
       "1         CoapplicantIncome       0.038485\n",
       "2            Credit_History       0.404591\n",
       "3               DateOfBirth       0.001221\n",
       "4              Dependents_1       0.032563\n",
       "5              Dependents_2       0.060648\n",
       "6      Dependents_3_or_more       0.003500\n",
       "7    Education_Not_Graduate       0.059508\n",
       "8               Gender_Male       0.053566\n",
       "9                LoanAmount       0.045181\n",
       "10         Loan_Amount_Term       0.006614\n",
       "11              Married_Yes       0.116167\n",
       "12  Property_Area_Semiurban       0.165011\n",
       "13      Property_Area_Urban       0.056171\n",
       "14        Self_Employed_Yes       0.025887"
      ]
     },
     "execution_count": 50,
     "metadata": {},
     "output_type": "execute_result"
    }
   ],
   "source": [
    "# Making a dataframe for Somers'D score for different variables.\n",
    "som = {'Column_name' : col,\n",
    "        'SomersD_value' : score}\n",
    "f_vars = pd.DataFrame(som)\n",
    "f_vars"
   ]
  },
  {
   "cell_type": "code",
   "execution_count": 51,
   "id": "81cf9d33",
   "metadata": {},
   "outputs": [],
   "source": [
    "# Taking the cut-off value for Somers'D as 0.1\n",
    "f_vars1 = f_vars[f_vars.SomersD_value >= 0.1]"
   ]
  },
  {
   "cell_type": "code",
   "execution_count": 52,
   "id": "71e2c7c0",
   "metadata": {
    "scrolled": false
   },
   "outputs": [
    {
     "name": "stdout",
     "output_type": "stream",
     "text": [
      "3\n"
     ]
    },
    {
     "data": {
      "text/plain": [
       "2              Credit_History\n",
       "11                Married_Yes\n",
       "12    Property_Area_Semiurban\n",
       "Name: Column_name, dtype: object"
      ]
     },
     "execution_count": 52,
     "metadata": {},
     "output_type": "execute_result"
    }
   ],
   "source": [
    "print(len(f_vars1.Column_name))\n",
    "f_vars1.Column_name"
   ]
  },
  {
   "cell_type": "code",
   "execution_count": 53,
   "id": "43865bd8",
   "metadata": {},
   "outputs": [],
   "source": [
    "# Taking the cut-off value for Somers'D as 0.2\n",
    "f_vars2 = f_vars[f_vars.SomersD_value >= 0.2]"
   ]
  },
  {
   "cell_type": "code",
   "execution_count": 54,
   "id": "20dd4345",
   "metadata": {
    "scrolled": true
   },
   "outputs": [
    {
     "name": "stdout",
     "output_type": "stream",
     "text": [
      "1\n"
     ]
    },
    {
     "data": {
      "text/plain": [
       "2    Credit_History\n",
       "Name: Column_name, dtype: object"
      ]
     },
     "execution_count": 54,
     "metadata": {},
     "output_type": "execute_result"
    }
   ],
   "source": [
    "print(len(f_vars2.Column_name))\n",
    "f_vars2.Column_name"
   ]
  },
  {
   "cell_type": "markdown",
   "id": "1d51652f",
   "metadata": {},
   "source": [
    "Ideally the cut-off value for Somers'D score should be greater than 0.2 but when we use this cut-off value, the number of variables become very less. Thus, we use 0.1 keeping in mind that this may result in some prediction error."
   ]
  },
  {
   "cell_type": "markdown",
   "id": "2851a04a",
   "metadata": {},
   "source": [
    "# Modelling"
   ]
  },
  {
   "cell_type": "code",
   "execution_count": 55,
   "id": "56d4a129",
   "metadata": {},
   "outputs": [],
   "source": [
    "Model = list()\n",
    "Accuracy = list()\n",
    "AUC_score = list()"
   ]
  },
  {
   "cell_type": "markdown",
   "id": "189c9bcf",
   "metadata": {},
   "source": [
    "## Statistical Approach Logistic Regression."
   ]
  },
  {
   "cell_type": "code",
   "execution_count": 56,
   "id": "fbadb502",
   "metadata": {},
   "outputs": [
    {
     "data": {
      "text/plain": [
       "'Loan_Status_Y ~ Credit_History + Married_Yes + Property_Area_Semiurban'"
      ]
     },
     "execution_count": 56,
     "metadata": {},
     "output_type": "execute_result"
    }
   ],
   "source": [
    "# Creating a model-parameter for statistical model building.\n",
    "\n",
    "model_params = 'Loan_Status_Y ~ ' + ' + '.join(f_vars1.Column_name)\n",
    "model_params"
   ]
  },
  {
   "cell_type": "code",
   "execution_count": 57,
   "id": "645db492",
   "metadata": {},
   "outputs": [],
   "source": [
    "# Train test split for statistical models.\n",
    "train, test = train_test_split(final_data, random_state = 42)"
   ]
  },
  {
   "cell_type": "code",
   "execution_count": 58,
   "id": "ee7aa926",
   "metadata": {},
   "outputs": [
    {
     "name": "stdout",
     "output_type": "stream",
     "text": [
      "Optimization terminated successfully.\n",
      "         Current function value: 0.463455\n",
      "         Iterations 6\n",
      "                            Results: Logit\n",
      "=======================================================================\n",
      "Model:                Logit              Pseudo R-squared:   0.247     \n",
      "Dependent Variable:   Loan_Status_Y      AIC:                341.6875  \n",
      "Date:                 2022-10-11 03:18   BIC:                357.2319  \n",
      "No. Observations:     360                Log-Likelihood:     -166.84   \n",
      "Df Model:             3                  LL-Null:            -221.58   \n",
      "Df Residuals:         356                LLR p-value:        1.4260e-23\n",
      "Converged:            1.0000             Scale:              1.0000    \n",
      "No. Iterations:       6.0000                                           \n",
      "-----------------------------------------------------------------------\n",
      "                         Coef.  Std.Err.    z    P>|z|   [0.025  0.975]\n",
      "-----------------------------------------------------------------------\n",
      "Intercept               -2.5813   0.4671 -5.5262 0.0000 -3.4968 -1.6658\n",
      "Credit_History           3.3959   0.4360  7.7890 0.0000  2.5414  4.2505\n",
      "Married_Yes              0.5365   0.2790  1.9231 0.0545 -0.0103  1.0832\n",
      "Property_Area_Semiurban  0.7565   0.2983  2.5362 0.0112  0.1719  1.3410\n",
      "=======================================================================\n",
      "\n"
     ]
    }
   ],
   "source": [
    "# model_params = '''Loan_Status_Y ~ Credit_History + Married_Yes + Property_Area_Semiurban'''\n",
    "l = smf.logit(model_params, train).fit()\n",
    "print(l.summary2())"
   ]
  },
  {
   "cell_type": "code",
   "execution_count": 59,
   "id": "8357e899",
   "metadata": {},
   "outputs": [
    {
     "data": {
      "text/plain": [
       "0.7915596919127086"
      ]
     },
     "execution_count": 59,
     "metadata": {},
     "output_type": "execute_result"
    }
   ],
   "source": [
    "# Find the AUC score of the model.\n",
    "Model.append('Stats_Log_Reg')\n",
    "auc = metrics.roc_auc_score(test.Loan_Status_Y, l.predict(test))\n",
    "AUC_score.append(auc)\n",
    "auc"
   ]
  },
  {
   "cell_type": "code",
   "execution_count": 60,
   "id": "07cc3987",
   "metadata": {},
   "outputs": [
    {
     "name": "stdout",
     "output_type": "stream",
     "text": [
      "Cut-off value:  0.6944444444444444\n"
     ]
    },
    {
     "data": {
      "text/plain": [
       "0.7583333333333333"
      ]
     },
     "execution_count": 60,
     "metadata": {},
     "output_type": "execute_result"
    }
   ],
   "source": [
    "# Find cut-off value for prediction using Response rate for now.\n",
    "cutOff = train.Loan_Status_Y.mean()\n",
    "print('Cut-off value: ', cutOff)\n",
    "\n",
    "# Find the Accuracy score of the model.\n",
    "accuracy = metrics.accuracy_score(test.Loan_Status_Y, l.predict(test) > cutOff)\n",
    "Accuracy.append(accuracy)\n",
    "accuracy"
   ]
  },
  {
   "cell_type": "markdown",
   "id": "d2222210",
   "metadata": {},
   "source": [
    "## ML Models"
   ]
  },
  {
   "cell_type": "code",
   "execution_count": 61,
   "id": "08ee6409",
   "metadata": {},
   "outputs": [],
   "source": [
    "# Separating dependent and independent variables from final_data on the basis of Somers'D score\n",
    "X = final_data[f_vars1.Column_name]\n",
    "y = final_data['Loan_Status_Y']"
   ]
  },
  {
   "cell_type": "code",
   "execution_count": 62,
   "id": "868ca01d",
   "metadata": {},
   "outputs": [
    {
     "data": {
      "text/plain": [
       "((480, 3), (480,))"
      ]
     },
     "execution_count": 62,
     "metadata": {},
     "output_type": "execute_result"
    }
   ],
   "source": [
    "X.shape, y.shape"
   ]
  },
  {
   "cell_type": "code",
   "execution_count": 63,
   "id": "3978a1e7",
   "metadata": {},
   "outputs": [],
   "source": [
    "# Train-Test split for building ML models.\n",
    "X_train, X_test, y_train, y_test = train_test_split(X, y, test_size = 0.3, random_state = 12345)"
   ]
  },
  {
   "cell_type": "code",
   "execution_count": 64,
   "id": "fd26773f",
   "metadata": {},
   "outputs": [
    {
     "data": {
      "text/plain": [
       "((336, 3), (144, 3), (336,), (144,))"
      ]
     },
     "execution_count": 64,
     "metadata": {},
     "output_type": "execute_result"
    }
   ],
   "source": [
    "X_train.shape, X_test.shape, y_train.shape, y_test.shape"
   ]
  },
  {
   "cell_type": "markdown",
   "id": "7ab6b18c",
   "metadata": {},
   "source": [
    "### 1. ML based Logistic Regression"
   ]
  },
  {
   "cell_type": "code",
   "execution_count": 65,
   "id": "b8fac39d",
   "metadata": {
    "scrolled": true
   },
   "outputs": [
    {
     "data": {
      "text/plain": [
       "LogisticRegression(max_iter=5000)"
      ]
     },
     "execution_count": 65,
     "metadata": {},
     "output_type": "execute_result"
    }
   ],
   "source": [
    "Model.append('ML_Log_reg')\n",
    "log_reg = LogisticRegression(max_iter = 5000)\n",
    "log_reg.fit(X_train, y_train)"
   ]
  },
  {
   "cell_type": "code",
   "execution_count": 66,
   "id": "5f112b27",
   "metadata": {},
   "outputs": [
    {
     "data": {
      "text/plain": [
       "0.8055555555555556"
      ]
     },
     "execution_count": 66,
     "metadata": {},
     "output_type": "execute_result"
    }
   ],
   "source": [
    "# Find the Accuracy score of the model.\n",
    "accuracy = metrics.accuracy_score(y_test, log_reg.predict(X_test))\n",
    "Accuracy.append(accuracy)\n",
    "accuracy"
   ]
  },
  {
   "cell_type": "code",
   "execution_count": 67,
   "id": "36587ba8",
   "metadata": {},
   "outputs": [
    {
     "data": {
      "text/plain": [
       "0.7293617021276595"
      ]
     },
     "execution_count": 67,
     "metadata": {},
     "output_type": "execute_result"
    }
   ],
   "source": [
    "# Find the AUC score of the model.\n",
    "auc = metrics.roc_auc_score(y_test, log_reg.predict(X_test))\n",
    "AUC_score.append(auc)\n",
    "auc"
   ]
  },
  {
   "cell_type": "markdown",
   "id": "eae10771",
   "metadata": {},
   "source": [
    "### 2. Decision Tree"
   ]
  },
  {
   "cell_type": "code",
   "execution_count": 68,
   "id": "28ce11bb",
   "metadata": {},
   "outputs": [],
   "source": [
    "from sklearn.tree import DecisionTreeClassifier"
   ]
  },
  {
   "cell_type": "code",
   "execution_count": 69,
   "id": "9eaf68c3",
   "metadata": {},
   "outputs": [
    {
     "name": "stdout",
     "output_type": "stream",
     "text": [
      "Fitting 10 folds for each of 13 candidates, totalling 130 fits\n"
     ]
    },
    {
     "data": {
      "text/plain": [
       "GridSearchCV(cv=10, estimator=DecisionTreeClassifier(), n_jobs=-1,\n",
       "             param_grid={'max_depth': range(2, 15)}, verbose=1)"
      ]
     },
     "execution_count": 69,
     "metadata": {},
     "output_type": "execute_result"
    }
   ],
   "source": [
    "# Using GridSearchCv to cross-validate the model and find the value of hyper-parameters.\n",
    "param_grid = {'max_depth' : range(2, 15)}\n",
    "\n",
    "tree_clf = GridSearchCV(DecisionTreeClassifier(), param_grid, cv = 10, n_jobs = -1, verbose = 1)\n",
    "tree_clf.fit(X_train, y_train)"
   ]
  },
  {
   "cell_type": "code",
   "execution_count": 70,
   "id": "2a50403e",
   "metadata": {},
   "outputs": [
    {
     "data": {
      "text/plain": [
       "{'max_depth': 2}"
      ]
     },
     "execution_count": 70,
     "metadata": {},
     "output_type": "execute_result"
    }
   ],
   "source": [
    "tree_clf.best_params_"
   ]
  },
  {
   "cell_type": "code",
   "execution_count": 71,
   "id": "6766c22d",
   "metadata": {},
   "outputs": [],
   "source": [
    "# Creating the model using best estimator after CV.\n",
    "Model.append('DTree')\n",
    "tree_clf = tree_clf.best_estimator_"
   ]
  },
  {
   "cell_type": "code",
   "execution_count": 72,
   "id": "001ddc15",
   "metadata": {},
   "outputs": [
    {
     "data": {
      "text/plain": [
       "0.8055555555555556"
      ]
     },
     "execution_count": 72,
     "metadata": {},
     "output_type": "execute_result"
    }
   ],
   "source": [
    "# Find the Accuracy score of the model.\n",
    "accuracy = metrics.accuracy_score(y_test, tree_clf.predict(X_test))\n",
    "Accuracy.append(accuracy)\n",
    "accuracy"
   ]
  },
  {
   "cell_type": "code",
   "execution_count": 73,
   "id": "b85353d0",
   "metadata": {},
   "outputs": [
    {
     "data": {
      "text/plain": [
       "0.7293617021276595"
      ]
     },
     "execution_count": 73,
     "metadata": {},
     "output_type": "execute_result"
    }
   ],
   "source": [
    "# Find the AUC score of the model.\n",
    "auc = metrics.roc_auc_score(y_test, tree_clf.predict(X_test))\n",
    "AUC_score.append(auc)\n",
    "auc"
   ]
  },
  {
   "cell_type": "markdown",
   "id": "74a8f46c",
   "metadata": {},
   "source": [
    "### 3. Random Forest"
   ]
  },
  {
   "cell_type": "code",
   "execution_count": 74,
   "id": "688afc26",
   "metadata": {},
   "outputs": [],
   "source": [
    "from sklearn import ensemble as en"
   ]
  },
  {
   "cell_type": "code",
   "execution_count": 75,
   "id": "9c7fe6fd",
   "metadata": {},
   "outputs": [
    {
     "name": "stdout",
     "output_type": "stream",
     "text": [
      "Fitting 5 folds for each of 117 candidates, totalling 585 fits\n"
     ]
    },
    {
     "data": {
      "text/plain": [
       "GridSearchCV(cv=5, estimator=RandomForestClassifier(), n_jobs=-1,\n",
       "             param_grid={'max_features': range(2, 15),\n",
       "                         'n_estimators': [20, 30, 40, 50, 60, 70, 80, 90, 100]},\n",
       "             scoring='roc_auc', verbose=1)"
      ]
     },
     "execution_count": 75,
     "metadata": {},
     "output_type": "execute_result"
    }
   ],
   "source": [
    "# Using GridSearchCv to cross-validate the model and find the value of hyper-parameters.\n",
    "\n",
    "param_grid = {'n_estimators' : [20, 30, 40, 50, 60, 70, 80, 90, 100], \n",
    "                 'max_features' : range(2, 15)}\n",
    "\n",
    "rf_clf = en.RandomForestClassifier()\n",
    "rf_clf = GridSearchCV(rf_clf, param_grid, cv = 5, n_jobs = -1, scoring = 'roc_auc', verbose = 1)\n",
    "rf_clf.fit(X_train, y_train)"
   ]
  },
  {
   "cell_type": "code",
   "execution_count": 76,
   "id": "f1a331ab",
   "metadata": {},
   "outputs": [
    {
     "data": {
      "text/plain": [
       "{'max_features': 2, 'n_estimators': 20}"
      ]
     },
     "execution_count": 76,
     "metadata": {},
     "output_type": "execute_result"
    }
   ],
   "source": [
    "rf_clf.best_params_"
   ]
  },
  {
   "cell_type": "code",
   "execution_count": 77,
   "id": "7f2c7fb1",
   "metadata": {},
   "outputs": [],
   "source": [
    "# Creating the model using best estimator after CV.\n",
    "Model.append('RForest')\n",
    "rf_clf = rf_clf.best_estimator_"
   ]
  },
  {
   "cell_type": "code",
   "execution_count": 78,
   "id": "3ab5e857",
   "metadata": {},
   "outputs": [
    {
     "data": {
      "text/plain": [
       "0.8055555555555556"
      ]
     },
     "execution_count": 78,
     "metadata": {},
     "output_type": "execute_result"
    }
   ],
   "source": [
    "# Find the Accuracy score of the model.\n",
    "accuracy = metrics.accuracy_score(y_test, rf_clf.predict(X_test))\n",
    "Accuracy.append(accuracy)\n",
    "accuracy"
   ]
  },
  {
   "cell_type": "code",
   "execution_count": 79,
   "id": "dde584ec",
   "metadata": {},
   "outputs": [
    {
     "data": {
      "text/plain": [
       "0.7293617021276595"
      ]
     },
     "execution_count": 79,
     "metadata": {},
     "output_type": "execute_result"
    }
   ],
   "source": [
    "# Find the AUC score of the model.\n",
    "auc = metrics.roc_auc_score(y_test, rf_clf.predict(X_test))\n",
    "AUC_score.append(auc)\n",
    "auc"
   ]
  },
  {
   "cell_type": "markdown",
   "id": "052d09af",
   "metadata": {},
   "source": [
    "### 4. Gradient Boosting"
   ]
  },
  {
   "cell_type": "code",
   "execution_count": 80,
   "id": "57caad05",
   "metadata": {},
   "outputs": [
    {
     "name": "stdout",
     "output_type": "stream",
     "text": [
      "Fitting 5 folds for each of 130 candidates, totalling 650 fits\n"
     ]
    },
    {
     "data": {
      "text/plain": [
       "GridSearchCV(cv=5, estimator=GradientBoostingClassifier(), n_jobs=-1,\n",
       "             param_grid={'max_features': range(2, 15),\n",
       "                         'n_estimators': [40, 50, 60, 70, 80, 90, 100, 110, 120,\n",
       "                                          130]},\n",
       "             scoring='roc_auc', verbose=1)"
      ]
     },
     "execution_count": 80,
     "metadata": {},
     "output_type": "execute_result"
    }
   ],
   "source": [
    "# Using GridSearchCv to cross-validate the model and find the value of hyper-parameters.\n",
    "\n",
    "param_grid = {'n_estimators' : [40, 50, 60, 70, 80, 90, 100, 110, 120, 130], \n",
    "#               'learning_rate' : [10 ** x for x in range(-3, 2)],\n",
    "                 'max_features' : range(2, 15)}\n",
    "\n",
    "gb_clf = en.GradientBoostingClassifier()\n",
    "gb_clf = GridSearchCV(gb_clf, param_grid, cv = 5, n_jobs = -1, scoring = 'roc_auc', verbose = 1)\n",
    "gb_clf.fit(X_train, y_train)"
   ]
  },
  {
   "cell_type": "code",
   "execution_count": 81,
   "id": "bd5d1cc1",
   "metadata": {
    "scrolled": true
   },
   "outputs": [
    {
     "data": {
      "text/plain": [
       "{'max_features': 2, 'n_estimators': 40}"
      ]
     },
     "execution_count": 81,
     "metadata": {},
     "output_type": "execute_result"
    }
   ],
   "source": [
    "gb_clf.best_params_"
   ]
  },
  {
   "cell_type": "code",
   "execution_count": 82,
   "id": "6864d2cd",
   "metadata": {
    "scrolled": true
   },
   "outputs": [],
   "source": [
    "# Creating the model using best estimator after CV.\n",
    "Model.append('GBoost')\n",
    "gb_clf = gb_clf.best_estimator_"
   ]
  },
  {
   "cell_type": "code",
   "execution_count": 83,
   "id": "b17990c9",
   "metadata": {},
   "outputs": [
    {
     "data": {
      "text/plain": [
       "0.8055555555555556"
      ]
     },
     "execution_count": 83,
     "metadata": {},
     "output_type": "execute_result"
    }
   ],
   "source": [
    "# Find the Accuracy score of the model.\n",
    "accuracy = metrics.accuracy_score(y_test, gb_clf.predict(X_test))\n",
    "Accuracy.append(accuracy)\n",
    "accuracy"
   ]
  },
  {
   "cell_type": "code",
   "execution_count": 84,
   "id": "18980b99",
   "metadata": {},
   "outputs": [
    {
     "data": {
      "text/plain": [
       "0.7293617021276595"
      ]
     },
     "execution_count": 84,
     "metadata": {},
     "output_type": "execute_result"
    }
   ],
   "source": [
    "# Find the AUC score of the model.\n",
    "auc = metrics.roc_auc_score(y_test, gb_clf.predict(X_test))\n",
    "AUC_score.append(auc)\n",
    "auc"
   ]
  },
  {
   "cell_type": "markdown",
   "id": "d786b8e5",
   "metadata": {},
   "source": [
    "### 5. Xtreme Gradient Boosting"
   ]
  },
  {
   "cell_type": "code",
   "execution_count": 85,
   "id": "37acfb2e",
   "metadata": {},
   "outputs": [],
   "source": [
    "from xgboost import XGBRFClassifier"
   ]
  },
  {
   "cell_type": "code",
   "execution_count": 86,
   "id": "1fed262a",
   "metadata": {},
   "outputs": [],
   "source": [
    "# # Using GridSearchCv to cross-validate the model and find the value of hyper-parameters.\n",
    "\n",
    "# param_grid = {'n_estimators' : [20, 30, 40, 50, 60, 70, 80], \n",
    "# #               'learning_rate' : [10 ** x for x in range(-3, 2)],\n",
    "#                  'max_features' : range(2, 15)}\n",
    "\n",
    "# xgb_clf = XGBRFClassifier(use_label_encoder=False, objective='reg:squarederror')\n",
    "# xgb_clf = GridSearchCV(xgb_clf, param_grid, cv = 5, n_jobs = -1, scoring = 'roc_auc', verbose = 1)\n",
    "# xgb_clf.fit(X_train, y_train)"
   ]
  },
  {
   "cell_type": "code",
   "execution_count": 87,
   "id": "486703a6",
   "metadata": {
    "scrolled": true
   },
   "outputs": [],
   "source": [
    "# xgb_clf.best_params_"
   ]
  },
  {
   "cell_type": "code",
   "execution_count": 88,
   "id": "54d7444b",
   "metadata": {
    "scrolled": true
   },
   "outputs": [],
   "source": [
    "# # Creating the model using best estimator after CV.\n",
    "# Model.append('XGBoost')\n",
    "# xgb_clf = xgb_clf.best_estimator_"
   ]
  },
  {
   "cell_type": "code",
   "execution_count": 89,
   "id": "db4a4655",
   "metadata": {},
   "outputs": [],
   "source": [
    "# Cross-validating wasn't giving any better output than without CV. Hence, CV was not used(done)."
   ]
  },
  {
   "cell_type": "code",
   "execution_count": 90,
   "id": "6070e2af",
   "metadata": {},
   "outputs": [
    {
     "data": {
      "text/plain": [
       "XGBRFClassifier(base_score=0.5, booster='gbtree', colsample_bylevel=1,\n",
       "                colsample_bytree=1, enable_categorical=False, gamma=0,\n",
       "                gpu_id=-1, importance_type=None, interaction_constraints='',\n",
       "                max_delta_step=0, max_depth=6, min_child_weight=1, missing=nan,\n",
       "                monotone_constraints='()', n_estimators=100, n_jobs=8,\n",
       "                num_parallel_tree=100, objective='reg:squarederror',\n",
       "                predictor='auto', random_state=0, reg_alpha=0,\n",
       "                scale_pos_weight=1, tree_method='exact',\n",
       "                use_label_encoder=False, validate_parameters=1, verbosity=None)"
      ]
     },
     "execution_count": 90,
     "metadata": {},
     "output_type": "execute_result"
    }
   ],
   "source": [
    "Model.append('XGBoost')\n",
    "xgb_clf = XGBRFClassifier(use_label_encoder=False, objective='reg:squarederror')\n",
    "xgb_clf.fit(X_train, y_train)"
   ]
  },
  {
   "cell_type": "code",
   "execution_count": 91,
   "id": "8e6eeaf9",
   "metadata": {},
   "outputs": [
    {
     "data": {
      "text/plain": [
       "0.8055555555555556"
      ]
     },
     "execution_count": 91,
     "metadata": {},
     "output_type": "execute_result"
    }
   ],
   "source": [
    "# Find the Accuracy score of the model.\n",
    "accuracy = metrics.accuracy_score(y_test, xgb_clf.predict(X_test))\n",
    "Accuracy.append(accuracy)\n",
    "accuracy"
   ]
  },
  {
   "cell_type": "code",
   "execution_count": 92,
   "id": "0845cb1e",
   "metadata": {},
   "outputs": [
    {
     "data": {
      "text/plain": [
       "0.7293617021276595"
      ]
     },
     "execution_count": 92,
     "metadata": {},
     "output_type": "execute_result"
    }
   ],
   "source": [
    "# Find the AUC score of the model.\n",
    "auc = metrics.roc_auc_score(y_test, xgb_clf.predict(X_test))\n",
    "AUC_score.append(auc)\n",
    "auc"
   ]
  },
  {
   "cell_type": "code",
   "execution_count": 93,
   "id": "56e957dc",
   "metadata": {
    "scrolled": false
   },
   "outputs": [
    {
     "data": {
      "text/html": [
       "<div>\n",
       "<style scoped>\n",
       "    .dataframe tbody tr th:only-of-type {\n",
       "        vertical-align: middle;\n",
       "    }\n",
       "\n",
       "    .dataframe tbody tr th {\n",
       "        vertical-align: top;\n",
       "    }\n",
       "\n",
       "    .dataframe thead th {\n",
       "        text-align: right;\n",
       "    }\n",
       "</style>\n",
       "<table border=\"1\" class=\"dataframe\">\n",
       "  <thead>\n",
       "    <tr style=\"text-align: right;\">\n",
       "      <th></th>\n",
       "      <th>Model</th>\n",
       "      <th>AUC_score</th>\n",
       "      <th>Accuracy</th>\n",
       "    </tr>\n",
       "  </thead>\n",
       "  <tbody>\n",
       "    <tr>\n",
       "      <th>0</th>\n",
       "      <td>Stats_Log_Reg</td>\n",
       "      <td>0.791560</td>\n",
       "      <td>0.758333</td>\n",
       "    </tr>\n",
       "    <tr>\n",
       "      <th>1</th>\n",
       "      <td>ML_Log_reg</td>\n",
       "      <td>0.729362</td>\n",
       "      <td>0.805556</td>\n",
       "    </tr>\n",
       "    <tr>\n",
       "      <th>2</th>\n",
       "      <td>DTree</td>\n",
       "      <td>0.729362</td>\n",
       "      <td>0.805556</td>\n",
       "    </tr>\n",
       "    <tr>\n",
       "      <th>3</th>\n",
       "      <td>RForest</td>\n",
       "      <td>0.729362</td>\n",
       "      <td>0.805556</td>\n",
       "    </tr>\n",
       "    <tr>\n",
       "      <th>4</th>\n",
       "      <td>GBoost</td>\n",
       "      <td>0.729362</td>\n",
       "      <td>0.805556</td>\n",
       "    </tr>\n",
       "    <tr>\n",
       "      <th>5</th>\n",
       "      <td>XGBoost</td>\n",
       "      <td>0.729362</td>\n",
       "      <td>0.805556</td>\n",
       "    </tr>\n",
       "  </tbody>\n",
       "</table>\n",
       "</div>"
      ],
      "text/plain": [
       "           Model  AUC_score  Accuracy\n",
       "0  Stats_Log_Reg   0.791560  0.758333\n",
       "1     ML_Log_reg   0.729362  0.805556\n",
       "2          DTree   0.729362  0.805556\n",
       "3        RForest   0.729362  0.805556\n",
       "4         GBoost   0.729362  0.805556\n",
       "5        XGBoost   0.729362  0.805556"
      ]
     },
     "execution_count": 93,
     "metadata": {},
     "output_type": "execute_result"
    }
   ],
   "source": [
    "# Looking at outcoems for all different models.\n",
    "comp = {\n",
    "    'Model' : Model,\n",
    "    'AUC_score' : AUC_score,\n",
    "    'Accuracy' : Accuracy\n",
    "}\n",
    "pd.DataFrame(comp)"
   ]
  },
  {
   "cell_type": "code",
   "execution_count": null,
   "id": "00d0c52d",
   "metadata": {},
   "outputs": [],
   "source": []
  },
  {
   "cell_type": "markdown",
   "id": "4ce3cad2",
   "metadata": {},
   "source": [
    "# -----ADD-ON-----"
   ]
  },
  {
   "cell_type": "markdown",
   "id": "36f9fc63",
   "metadata": {},
   "source": [
    "1. Use of RFE for feature elimination.\n",
    "2. Handling Imbalance data Using RandomSampling, SMOTE and SMOTETomek approaches"
   ]
  },
  {
   "cell_type": "code",
   "execution_count": 94,
   "id": "1e8492f0",
   "metadata": {},
   "outputs": [],
   "source": [
    "# Separating dependent and independent variables from final_data on the basis of Somers'D score\n",
    "X = final_data[feature_columns]\n",
    "y = final_data['Loan_Status_Y']"
   ]
  },
  {
   "cell_type": "code",
   "execution_count": 95,
   "id": "4687105e",
   "metadata": {},
   "outputs": [
    {
     "data": {
      "text/plain": [
       "((480, 15), (480,))"
      ]
     },
     "execution_count": 95,
     "metadata": {},
     "output_type": "execute_result"
    }
   ],
   "source": [
    "X.shape, y.shape"
   ]
  },
  {
   "cell_type": "code",
   "execution_count": 96,
   "id": "986cda85",
   "metadata": {},
   "outputs": [
    {
     "data": {
      "text/plain": [
       "1    332\n",
       "0    148\n",
       "Name: Loan_Status_Y, dtype: int64"
      ]
     },
     "execution_count": 96,
     "metadata": {},
     "output_type": "execute_result"
    }
   ],
   "source": [
    "y.value_counts()"
   ]
  },
  {
   "cell_type": "markdown",
   "id": "e440e67e",
   "metadata": {},
   "source": [
    "## Balancing the data"
   ]
  },
  {
   "cell_type": "code",
   "execution_count": 97,
   "id": "67fc20be",
   "metadata": {},
   "outputs": [],
   "source": [
    "from imblearn.over_sampling import SMOTE, RandomOverSampler\n",
    "from imblearn.combine import SMOTETomek"
   ]
  },
  {
   "cell_type": "code",
   "execution_count": 98,
   "id": "07b583be",
   "metadata": {},
   "outputs": [
    {
     "data": {
      "text/plain": [
       "0    332\n",
       "1    332\n",
       "Name: Loan_Status_Y, dtype: int64"
      ]
     },
     "execution_count": 98,
     "metadata": {},
     "output_type": "execute_result"
    }
   ],
   "source": [
    "over_sample = RandomOverSampler(random_state = 1234)\n",
    "X_over_sample, y_over_sample = over_sample.fit_resample(X, y)\n",
    "y_over_sample.value_counts()"
   ]
  },
  {
   "cell_type": "code",
   "execution_count": 99,
   "id": "98c05b4c",
   "metadata": {},
   "outputs": [
    {
     "data": {
      "text/plain": [
       "0    332\n",
       "1    332\n",
       "Name: Loan_Status_Y, dtype: int64"
      ]
     },
     "execution_count": 99,
     "metadata": {},
     "output_type": "execute_result"
    }
   ],
   "source": [
    "smote_sample = SMOTE(random_state = 1234)\n",
    "X_smote_sample, y_smote_sample = smote_sample.fit_resample(X, y)\n",
    "y_smote_sample.value_counts()"
   ]
  },
  {
   "cell_type": "code",
   "execution_count": 100,
   "id": "d1890ecf",
   "metadata": {},
   "outputs": [
    {
     "data": {
      "text/plain": [
       "0    277\n",
       "1    277\n",
       "Name: Loan_Status_Y, dtype: int64"
      ]
     },
     "execution_count": 100,
     "metadata": {},
     "output_type": "execute_result"
    }
   ],
   "source": [
    "smote_tomek_sample = SMOTETomek(random_state = 1234)\n",
    "X_smote_tomek_sample, y_smote_tomek_sample = smote_tomek_sample.fit_resample(X, y)\n",
    "y_smote_tomek_sample.value_counts()"
   ]
  },
  {
   "cell_type": "code",
   "execution_count": null,
   "id": "9918b8ca",
   "metadata": {},
   "outputs": [],
   "source": []
  },
  {
   "cell_type": "markdown",
   "id": "b7bf3b94",
   "metadata": {},
   "source": [
    "## Use of RFE for feature elimination."
   ]
  },
  {
   "cell_type": "code",
   "execution_count": 101,
   "id": "3b2bf99b",
   "metadata": {},
   "outputs": [],
   "source": [
    "# Use any one at a time.\n",
    "\n",
    "# X, y = X_smote_tomek_sample, y_smote_tomek_sample\n",
    "\n",
    "# X, y = X_over_sample, y_over_sample \n",
    "\n",
    "X, y = X_smote_sample, y_smote_sample"
   ]
  },
  {
   "cell_type": "code",
   "execution_count": 102,
   "id": "e15352f8",
   "metadata": {},
   "outputs": [],
   "source": [
    "from sklearn.tree import DecisionTreeClassifier"
   ]
  },
  {
   "cell_type": "code",
   "execution_count": 103,
   "id": "41b39907",
   "metadata": {},
   "outputs": [
    {
     "data": {
      "text/plain": [
       "RFE(estimator=DecisionTreeClassifier(random_state=1234),\n",
       "    n_features_to_select=10)"
      ]
     },
     "execution_count": 103,
     "metadata": {},
     "output_type": "execute_result"
    }
   ],
   "source": [
    "rfe = RFE(DecisionTreeClassifier(random_state = 1234), n_features_to_select = 10)\n",
    "rfe.fit(X, y)"
   ]
  },
  {
   "cell_type": "code",
   "execution_count": 104,
   "id": "4c91d920",
   "metadata": {},
   "outputs": [
    {
     "data": {
      "text/plain": [
       "Index(['ApplicantIncome', 'CoapplicantIncome', 'Credit_History', 'DateOfBirth',\n",
       "       'Dependents_2', 'Education_Not_Graduate', 'LoanAmount',\n",
       "       'Loan_Amount_Term', 'Married_Yes', 'Property_Area_Semiurban'],\n",
       "      dtype='object')"
      ]
     },
     "execution_count": 104,
     "metadata": {},
     "output_type": "execute_result"
    }
   ],
   "source": [
    "X.columns[rfe.support_]"
   ]
  },
  {
   "cell_type": "code",
   "execution_count": 105,
   "id": "15aebe41",
   "metadata": {},
   "outputs": [
    {
     "data": {
      "text/plain": [
       "Index(['ApplicantIncome', 'CoapplicantIncome', 'Credit_History', 'DateOfBirth',\n",
       "       'Dependents_2', 'Education_Not_Graduate', 'LoanAmount',\n",
       "       'Loan_Amount_Term', 'Married_Yes', 'Property_Area_Semiurban'],\n",
       "      dtype='object')"
      ]
     },
     "execution_count": 105,
     "metadata": {},
     "output_type": "execute_result"
    }
   ],
   "source": [
    "features = X.columns[rfe.support_]\n",
    "X = X[features]\n",
    "features"
   ]
  },
  {
   "cell_type": "code",
   "execution_count": 106,
   "id": "73e8181b",
   "metadata": {},
   "outputs": [],
   "source": [
    "# Train-Test split for building ML models.\n",
    "X_train, X_test, y_train, y_test = train_test_split(X, y, test_size = 0.3, random_state = 12345)"
   ]
  },
  {
   "cell_type": "code",
   "execution_count": 107,
   "id": "2471f3ce",
   "metadata": {},
   "outputs": [
    {
     "data": {
      "text/plain": [
       "((464, 10), (200, 10), (464,), (200,))"
      ]
     },
     "execution_count": 107,
     "metadata": {},
     "output_type": "execute_result"
    }
   ],
   "source": [
    "X_train.shape, X_test.shape, y_train.shape, y_test.shape"
   ]
  },
  {
   "cell_type": "markdown",
   "id": "840ec4a8",
   "metadata": {},
   "source": [
    "# Modelling"
   ]
  },
  {
   "cell_type": "code",
   "execution_count": 108,
   "id": "7391b4b2",
   "metadata": {},
   "outputs": [],
   "source": [
    "Model = list()\n",
    "Accuracy = list()\n",
    "AUC_score = list()"
   ]
  },
  {
   "cell_type": "markdown",
   "id": "23fb56ac",
   "metadata": {},
   "source": [
    "## Statistical Approach Logistic Regression."
   ]
  },
  {
   "cell_type": "code",
   "execution_count": 109,
   "id": "b58217ed",
   "metadata": {},
   "outputs": [
    {
     "data": {
      "text/plain": [
       "'Loan_Status_Y ~ ApplicantIncome + CoapplicantIncome + Credit_History + DateOfBirth + Dependents_2 + Education_Not_Graduate + LoanAmount + Loan_Amount_Term + Married_Yes + Property_Area_Semiurban'"
      ]
     },
     "execution_count": 109,
     "metadata": {},
     "output_type": "execute_result"
    }
   ],
   "source": [
    "# Creating a model-parameter for statistical model building.\n",
    "\n",
    "model_params = 'Loan_Status_Y ~ ' + ' + '.join(features)\n",
    "model_params"
   ]
  },
  {
   "cell_type": "code",
   "execution_count": 110,
   "id": "cc40fd62",
   "metadata": {},
   "outputs": [],
   "source": [
    "# Train test split for statistical models.\n",
    "train, test = train_test_split(final_data, random_state = 42)"
   ]
  },
  {
   "cell_type": "code",
   "execution_count": 111,
   "id": "250acd3d",
   "metadata": {},
   "outputs": [
    {
     "name": "stdout",
     "output_type": "stream",
     "text": [
      "Optimization terminated successfully.\n",
      "         Current function value: 0.455648\n",
      "         Iterations 6\n",
      "                            Results: Logit\n",
      "=======================================================================\n",
      "Model:                Logit              Pseudo R-squared:   0.260     \n",
      "Dependent Variable:   Loan_Status_Y      AIC:                350.0667  \n",
      "Date:                 2022-10-11 03:19   BIC:                392.8139  \n",
      "No. Observations:     360                Log-Likelihood:     -164.03   \n",
      "Df Model:             10                 LL-Null:            -221.58   \n",
      "Df Residuals:         349                LLR p-value:        4.9962e-20\n",
      "Converged:            1.0000             Scale:              1.0000    \n",
      "No. Iterations:       6.0000                                           \n",
      "-----------------------------------------------------------------------\n",
      "                         Coef.  Std.Err.    z    P>|z|   [0.025  0.975]\n",
      "-----------------------------------------------------------------------\n",
      "Intercept               -1.5939   1.3178 -1.2095 0.2265 -4.1768  0.9890\n",
      "ApplicantIncome          0.0001   0.0001  0.7983 0.4247 -0.0001  0.0002\n",
      "CoapplicantIncome        0.0000   0.0001  0.4255 0.6705 -0.0002  0.0002\n",
      "Credit_History           3.4019   0.4394  7.7420 0.0000  2.5406  4.2631\n",
      "DateOfBirth             -0.0009   0.0257 -0.0339 0.9730 -0.0512  0.0495\n",
      "Dependents_2             0.0867   0.4179  0.2075 0.8356 -0.7323  0.9057\n",
      "Education_Not_Graduate  -0.1503   0.3624 -0.4148 0.6783 -0.8605  0.5599\n",
      "LoanAmount              -0.0047   0.0024 -1.9868 0.0469 -0.0093 -0.0001\n",
      "Loan_Amount_Term        -0.0019   0.0025 -0.7617 0.4462 -0.0068  0.0030\n",
      "Married_Yes              0.6093   0.3036  2.0068 0.0448  0.0142  1.2044\n",
      "Property_Area_Semiurban  0.7832   0.3032  2.5830 0.0098  0.1889  1.3775\n",
      "=======================================================================\n",
      "\n"
     ]
    }
   ],
   "source": [
    "# model_params = '''Loan_Status_Y ~ Credit_History + Married_Yes + Property_Area_Semiurban'''\n",
    "l = smf.logit(model_params, train).fit()\n",
    "print(l.summary2())"
   ]
  },
  {
   "cell_type": "code",
   "execution_count": 112,
   "id": "17bb3c07",
   "metadata": {},
   "outputs": [
    {
     "data": {
      "text/plain": [
       "0.7788831835686778"
      ]
     },
     "execution_count": 112,
     "metadata": {},
     "output_type": "execute_result"
    }
   ],
   "source": [
    "# Find the AUC score of the model.\n",
    "Model.append('Stats_Log_Reg')\n",
    "auc = metrics.roc_auc_score(test.Loan_Status_Y, l.predict(test))\n",
    "AUC_score.append(auc)\n",
    "auc"
   ]
  },
  {
   "cell_type": "code",
   "execution_count": 113,
   "id": "a0648ceb",
   "metadata": {},
   "outputs": [
    {
     "name": "stdout",
     "output_type": "stream",
     "text": [
      "Cut-off value:  0.6944444444444444\n"
     ]
    },
    {
     "data": {
      "text/plain": [
       "0.7583333333333333"
      ]
     },
     "execution_count": 113,
     "metadata": {},
     "output_type": "execute_result"
    }
   ],
   "source": [
    "# Find cut-off value for prediction using Response rate for now.\n",
    "cutOff = train.Loan_Status_Y.mean()\n",
    "print('Cut-off value: ', cutOff)\n",
    "\n",
    "# Find the Accuracy score of the model.\n",
    "accuracy = metrics.accuracy_score(test.Loan_Status_Y, l.predict(test) > cutOff)\n",
    "Accuracy.append(accuracy)\n",
    "accuracy"
   ]
  },
  {
   "cell_type": "markdown",
   "id": "79236a61",
   "metadata": {},
   "source": [
    "## ML Models"
   ]
  },
  {
   "cell_type": "code",
   "execution_count": 114,
   "id": "2dd3764a",
   "metadata": {},
   "outputs": [],
   "source": [
    "# Separating dependent and independent variables from final_data on the basis of Somers'D score\n",
    "X = final_data[features]\n",
    "y = final_data['Loan_Status_Y']"
   ]
  },
  {
   "cell_type": "code",
   "execution_count": 115,
   "id": "2c3aef65",
   "metadata": {},
   "outputs": [
    {
     "data": {
      "text/plain": [
       "((480, 10), (480,))"
      ]
     },
     "execution_count": 115,
     "metadata": {},
     "output_type": "execute_result"
    }
   ],
   "source": [
    "X.shape, y.shape"
   ]
  },
  {
   "cell_type": "code",
   "execution_count": 116,
   "id": "89d5d601",
   "metadata": {},
   "outputs": [],
   "source": [
    "# Train-Test split for building ML models.\n",
    "X_train, X_test, y_train, y_test = train_test_split(X, y, test_size = 0.3, random_state = 12345)"
   ]
  },
  {
   "cell_type": "code",
   "execution_count": 117,
   "id": "68b15a20",
   "metadata": {},
   "outputs": [
    {
     "data": {
      "text/plain": [
       "((336, 10), (144, 10), (336,), (144,))"
      ]
     },
     "execution_count": 117,
     "metadata": {},
     "output_type": "execute_result"
    }
   ],
   "source": [
    "X_train.shape, X_test.shape, y_train.shape, y_test.shape"
   ]
  },
  {
   "cell_type": "markdown",
   "id": "8b080449",
   "metadata": {},
   "source": [
    "### 1. ML based Logistic Regression"
   ]
  },
  {
   "cell_type": "code",
   "execution_count": 118,
   "id": "cb71c65d",
   "metadata": {
    "scrolled": true
   },
   "outputs": [
    {
     "data": {
      "text/plain": [
       "LogisticRegression(max_iter=5000)"
      ]
     },
     "execution_count": 118,
     "metadata": {},
     "output_type": "execute_result"
    }
   ],
   "source": [
    "Model.append('ML_Log_reg')\n",
    "log_reg = LogisticRegression(max_iter = 5000)\n",
    "log_reg.fit(X_train, y_train)"
   ]
  },
  {
   "cell_type": "code",
   "execution_count": 119,
   "id": "b561d3f9",
   "metadata": {},
   "outputs": [
    {
     "data": {
      "text/plain": [
       "0.8125"
      ]
     },
     "execution_count": 119,
     "metadata": {},
     "output_type": "execute_result"
    }
   ],
   "source": [
    "# Find the Accuracy score of the model.\n",
    "accuracy = metrics.accuracy_score(y_test, log_reg.predict(X_test))\n",
    "Accuracy.append(accuracy)\n",
    "accuracy"
   ]
  },
  {
   "cell_type": "code",
   "execution_count": 120,
   "id": "4f42e519",
   "metadata": {},
   "outputs": [
    {
     "data": {
      "text/plain": [
       "0.7393617021276595"
      ]
     },
     "execution_count": 120,
     "metadata": {},
     "output_type": "execute_result"
    }
   ],
   "source": [
    "# Find the AUC score of the model.\n",
    "auc = metrics.roc_auc_score(y_test, log_reg.predict(X_test))\n",
    "AUC_score.append(auc)\n",
    "auc"
   ]
  },
  {
   "cell_type": "markdown",
   "id": "6d9ae355",
   "metadata": {},
   "source": [
    "### 2. Decision Tree"
   ]
  },
  {
   "cell_type": "code",
   "execution_count": 121,
   "id": "ed531c5b",
   "metadata": {},
   "outputs": [],
   "source": [
    "from sklearn.tree import DecisionTreeClassifier"
   ]
  },
  {
   "cell_type": "code",
   "execution_count": 122,
   "id": "c9b5e0cb",
   "metadata": {},
   "outputs": [
    {
     "name": "stdout",
     "output_type": "stream",
     "text": [
      "Fitting 10 folds for each of 13 candidates, totalling 130 fits\n"
     ]
    },
    {
     "data": {
      "text/plain": [
       "GridSearchCV(cv=10, estimator=DecisionTreeClassifier(), n_jobs=-1,\n",
       "             param_grid={'max_depth': range(2, 15)}, verbose=1)"
      ]
     },
     "execution_count": 122,
     "metadata": {},
     "output_type": "execute_result"
    }
   ],
   "source": [
    "# Using GridSearchCv to cross-validate the model and find the value of hyper-parameters.\n",
    "param_grid = {'max_depth' : range(2, 15)}\n",
    "\n",
    "tree_clf = GridSearchCV(DecisionTreeClassifier(), param_grid, cv = 10, n_jobs = -1, verbose = 1)\n",
    "tree_clf.fit(X_train, y_train)"
   ]
  },
  {
   "cell_type": "code",
   "execution_count": 123,
   "id": "1a7defad",
   "metadata": {},
   "outputs": [
    {
     "data": {
      "text/plain": [
       "{'max_depth': 3}"
      ]
     },
     "execution_count": 123,
     "metadata": {},
     "output_type": "execute_result"
    }
   ],
   "source": [
    "tree_clf.best_params_"
   ]
  },
  {
   "cell_type": "code",
   "execution_count": 124,
   "id": "ec78692e",
   "metadata": {},
   "outputs": [],
   "source": [
    "# Creating the model using best estimator after CV.\n",
    "Model.append('DTree')\n",
    "tree_clf = tree_clf.best_estimator_"
   ]
  },
  {
   "cell_type": "code",
   "execution_count": 125,
   "id": "60d1b2d4",
   "metadata": {},
   "outputs": [
    {
     "data": {
      "text/plain": [
       "0.7638888888888888"
      ]
     },
     "execution_count": 125,
     "metadata": {},
     "output_type": "execute_result"
    }
   ],
   "source": [
    "# Find the Accuracy score of the model.\n",
    "accuracy = metrics.accuracy_score(y_test, tree_clf.predict(X_test))\n",
    "Accuracy.append(accuracy)\n",
    "accuracy"
   ]
  },
  {
   "cell_type": "code",
   "execution_count": 126,
   "id": "b56b9216",
   "metadata": {},
   "outputs": [
    {
     "data": {
      "text/plain": [
       "0.7114893617021276"
      ]
     },
     "execution_count": 126,
     "metadata": {},
     "output_type": "execute_result"
    }
   ],
   "source": [
    "# Find the AUC score of the model.\n",
    "auc = metrics.roc_auc_score(y_test, tree_clf.predict(X_test))\n",
    "AUC_score.append(auc)\n",
    "auc"
   ]
  },
  {
   "cell_type": "markdown",
   "id": "018bd88c",
   "metadata": {},
   "source": [
    "### 3. Random Forest"
   ]
  },
  {
   "cell_type": "code",
   "execution_count": 127,
   "id": "362f4864",
   "metadata": {},
   "outputs": [],
   "source": [
    "from sklearn import ensemble as en"
   ]
  },
  {
   "cell_type": "code",
   "execution_count": 128,
   "id": "26f67026",
   "metadata": {},
   "outputs": [
    {
     "name": "stdout",
     "output_type": "stream",
     "text": [
      "Fitting 5 folds for each of 117 candidates, totalling 585 fits\n"
     ]
    },
    {
     "data": {
      "text/plain": [
       "GridSearchCV(cv=5, estimator=RandomForestClassifier(), n_jobs=-1,\n",
       "             param_grid={'max_features': range(2, 15),\n",
       "                         'n_estimators': [20, 30, 40, 50, 60, 70, 80, 90, 100]},\n",
       "             scoring='roc_auc', verbose=1)"
      ]
     },
     "execution_count": 128,
     "metadata": {},
     "output_type": "execute_result"
    }
   ],
   "source": [
    "# Using GridSearchCv to cross-validate the model and find the value of hyper-parameters.\n",
    "\n",
    "param_grid = {'n_estimators' : [20, 30, 40, 50, 60, 70, 80, 90, 100], \n",
    "                 'max_features' : range(2, 15)}\n",
    "\n",
    "rf_clf = en.RandomForestClassifier()\n",
    "rf_clf = GridSearchCV(rf_clf, param_grid, cv = 5, n_jobs = -1, scoring = 'roc_auc', verbose = 1)\n",
    "rf_clf.fit(X_train, y_train)"
   ]
  },
  {
   "cell_type": "code",
   "execution_count": 129,
   "id": "86623a8e",
   "metadata": {},
   "outputs": [
    {
     "data": {
      "text/plain": [
       "{'max_features': 3, 'n_estimators': 60}"
      ]
     },
     "execution_count": 129,
     "metadata": {},
     "output_type": "execute_result"
    }
   ],
   "source": [
    "rf_clf.best_params_"
   ]
  },
  {
   "cell_type": "code",
   "execution_count": 130,
   "id": "4604c4a2",
   "metadata": {},
   "outputs": [],
   "source": [
    "# Creating the model using best estimator after CV.\n",
    "Model.append('RForest')\n",
    "rf_clf = rf_clf.best_estimator_"
   ]
  },
  {
   "cell_type": "code",
   "execution_count": 131,
   "id": "d843985c",
   "metadata": {},
   "outputs": [
    {
     "data": {
      "text/plain": [
       "0.7916666666666666"
      ]
     },
     "execution_count": 131,
     "metadata": {},
     "output_type": "execute_result"
    }
   ],
   "source": [
    "# Find the Accuracy score of the model.\n",
    "accuracy = metrics.accuracy_score(y_test, rf_clf.predict(X_test))\n",
    "Accuracy.append(accuracy)\n",
    "accuracy"
   ]
  },
  {
   "cell_type": "code",
   "execution_count": 132,
   "id": "21240896",
   "metadata": {},
   "outputs": [
    {
     "data": {
      "text/plain": [
       "0.7421276595744681"
      ]
     },
     "execution_count": 132,
     "metadata": {},
     "output_type": "execute_result"
    }
   ],
   "source": [
    "# Find the AUC score of the model.\n",
    "auc = metrics.roc_auc_score(y_test, rf_clf.predict(X_test))\n",
    "AUC_score.append(auc)\n",
    "auc"
   ]
  },
  {
   "cell_type": "markdown",
   "id": "8ec3d5bf",
   "metadata": {},
   "source": [
    "### 4. Gradient Boosting"
   ]
  },
  {
   "cell_type": "code",
   "execution_count": 133,
   "id": "166bab72",
   "metadata": {},
   "outputs": [
    {
     "name": "stdout",
     "output_type": "stream",
     "text": [
      "Fitting 5 folds for each of 130 candidates, totalling 650 fits\n"
     ]
    },
    {
     "data": {
      "text/plain": [
       "GridSearchCV(cv=5, estimator=GradientBoostingClassifier(), n_jobs=-1,\n",
       "             param_grid={'max_features': range(2, 15),\n",
       "                         'n_estimators': [40, 50, 60, 70, 80, 90, 100, 110, 120,\n",
       "                                          130]},\n",
       "             scoring='roc_auc', verbose=1)"
      ]
     },
     "execution_count": 133,
     "metadata": {},
     "output_type": "execute_result"
    }
   ],
   "source": [
    "# Using GridSearchCv to cross-validate the model and find the value of hyper-parameters.\n",
    "\n",
    "param_grid = {'n_estimators' : [40, 50, 60, 70, 80, 90, 100, 110, 120, 130], \n",
    "#               'learning_rate' : [10 ** x for x in range(-3, 2)],\n",
    "                 'max_features' : range(2, 15)}\n",
    "\n",
    "gb_clf = en.GradientBoostingClassifier()\n",
    "gb_clf = GridSearchCV(gb_clf, param_grid, cv = 5, n_jobs = -1, scoring = 'roc_auc', verbose = 1)\n",
    "gb_clf.fit(X_train, y_train)"
   ]
  },
  {
   "cell_type": "code",
   "execution_count": 134,
   "id": "adc955c5",
   "metadata": {
    "scrolled": true
   },
   "outputs": [
    {
     "data": {
      "text/plain": [
       "{'max_features': 2, 'n_estimators': 110}"
      ]
     },
     "execution_count": 134,
     "metadata": {},
     "output_type": "execute_result"
    }
   ],
   "source": [
    "gb_clf.best_params_"
   ]
  },
  {
   "cell_type": "code",
   "execution_count": 135,
   "id": "9e0dab1e",
   "metadata": {
    "scrolled": true
   },
   "outputs": [],
   "source": [
    "# Creating the model using best estimator after CV.\n",
    "Model.append('GBoost')\n",
    "gb_clf = gb_clf.best_estimator_"
   ]
  },
  {
   "cell_type": "code",
   "execution_count": 136,
   "id": "1aa2236f",
   "metadata": {},
   "outputs": [
    {
     "data": {
      "text/plain": [
       "0.7986111111111112"
      ]
     },
     "execution_count": 136,
     "metadata": {},
     "output_type": "execute_result"
    }
   ],
   "source": [
    "# Find the Accuracy score of the model.\n",
    "accuracy = metrics.accuracy_score(y_test, gb_clf.predict(X_test))\n",
    "Accuracy.append(accuracy)\n",
    "accuracy"
   ]
  },
  {
   "cell_type": "code",
   "execution_count": 137,
   "id": "90c4ec34",
   "metadata": {},
   "outputs": [
    {
     "data": {
      "text/plain": [
       "0.7474468085106384"
      ]
     },
     "execution_count": 137,
     "metadata": {},
     "output_type": "execute_result"
    }
   ],
   "source": [
    "# Find the AUC score of the model.\n",
    "auc = metrics.roc_auc_score(y_test, gb_clf.predict(X_test))\n",
    "AUC_score.append(auc)\n",
    "auc"
   ]
  },
  {
   "cell_type": "markdown",
   "id": "cce40370",
   "metadata": {},
   "source": [
    "### 5. Xtreme Gradient Boosting"
   ]
  },
  {
   "cell_type": "code",
   "execution_count": 138,
   "id": "92ff1a9d",
   "metadata": {},
   "outputs": [],
   "source": [
    "from xgboost import XGBRFClassifier"
   ]
  },
  {
   "cell_type": "code",
   "execution_count": 139,
   "id": "1b40bded",
   "metadata": {},
   "outputs": [],
   "source": [
    "# # Using GridSearchCv to cross-validate the model and find the value of hyper-parameters.\n",
    "\n",
    "# param_grid = {'n_estimators' : [20, 30, 40, 50, 60, 70, 80], \n",
    "# #               'learning_rate' : [10 ** x for x in range(-3, 2)],\n",
    "#                  'max_features' : range(2, 15)}\n",
    "\n",
    "# xgb_clf = XGBRFClassifier(use_label_encoder=False, objective='reg:squarederror')\n",
    "# xgb_clf = GridSearchCV(xgb_clf, param_grid, cv = 5, n_jobs = -1, scoring = 'roc_auc', verbose = 1)\n",
    "# xgb_clf.fit(X_train, y_train)"
   ]
  },
  {
   "cell_type": "code",
   "execution_count": 140,
   "id": "385807cd",
   "metadata": {
    "scrolled": true
   },
   "outputs": [],
   "source": [
    "# xgb_clf.best_params_"
   ]
  },
  {
   "cell_type": "code",
   "execution_count": 141,
   "id": "3d01f7f6",
   "metadata": {
    "scrolled": true
   },
   "outputs": [],
   "source": [
    "# # Creating the model using best estimator after CV.\n",
    "# Model.append('XGBoost')\n",
    "# xgb_clf = xgb_clf.best_estimator_"
   ]
  },
  {
   "cell_type": "code",
   "execution_count": 142,
   "id": "02f7ae00",
   "metadata": {},
   "outputs": [],
   "source": [
    "# Cross-validating wasn't giving any better output than without CV. Hence, CV was not used(done)."
   ]
  },
  {
   "cell_type": "code",
   "execution_count": 143,
   "id": "6b3f2484",
   "metadata": {},
   "outputs": [
    {
     "data": {
      "text/plain": [
       "XGBRFClassifier(base_score=0.5, booster='gbtree', colsample_bylevel=1,\n",
       "                colsample_bytree=1, enable_categorical=False, gamma=0,\n",
       "                gpu_id=-1, importance_type=None, interaction_constraints='',\n",
       "                max_delta_step=0, max_depth=6, min_child_weight=1, missing=nan,\n",
       "                monotone_constraints='()', n_estimators=100, n_jobs=8,\n",
       "                num_parallel_tree=100, objective='reg:squarederror',\n",
       "                predictor='auto', random_state=0, reg_alpha=0,\n",
       "                scale_pos_weight=1, tree_method='exact',\n",
       "                use_label_encoder=False, validate_parameters=1, verbosity=None)"
      ]
     },
     "execution_count": 143,
     "metadata": {},
     "output_type": "execute_result"
    }
   ],
   "source": [
    "Model.append('XGBoost')\n",
    "xgb_clf = XGBRFClassifier(use_label_encoder=False, objective='reg:squarederror')\n",
    "xgb_clf.fit(X_train, y_train)"
   ]
  },
  {
   "cell_type": "code",
   "execution_count": 144,
   "id": "8b57e42c",
   "metadata": {},
   "outputs": [
    {
     "data": {
      "text/plain": [
       "0.7708333333333334"
      ]
     },
     "execution_count": 144,
     "metadata": {},
     "output_type": "execute_result"
    }
   ],
   "source": [
    "# Find the Accuracy score of the model.\n",
    "accuracy = metrics.accuracy_score(y_test, xgb_clf.predict(X_test))\n",
    "Accuracy.append(accuracy)\n",
    "accuracy"
   ]
  },
  {
   "cell_type": "code",
   "execution_count": 145,
   "id": "e7f8ceb9",
   "metadata": {},
   "outputs": [
    {
     "data": {
      "text/plain": [
       "0.7121276595744681"
      ]
     },
     "execution_count": 145,
     "metadata": {},
     "output_type": "execute_result"
    }
   ],
   "source": [
    "# Find the AUC score of the model.\n",
    "auc = metrics.roc_auc_score(y_test, xgb_clf.predict(X_test))\n",
    "AUC_score.append(auc)\n",
    "auc"
   ]
  },
  {
   "cell_type": "code",
   "execution_count": 146,
   "id": "6824e636",
   "metadata": {
    "scrolled": true
   },
   "outputs": [
    {
     "data": {
      "text/html": [
       "<div>\n",
       "<style scoped>\n",
       "    .dataframe tbody tr th:only-of-type {\n",
       "        vertical-align: middle;\n",
       "    }\n",
       "\n",
       "    .dataframe tbody tr th {\n",
       "        vertical-align: top;\n",
       "    }\n",
       "\n",
       "    .dataframe thead th {\n",
       "        text-align: right;\n",
       "    }\n",
       "</style>\n",
       "<table border=\"1\" class=\"dataframe\">\n",
       "  <thead>\n",
       "    <tr style=\"text-align: right;\">\n",
       "      <th></th>\n",
       "      <th>Model</th>\n",
       "      <th>AUC_score</th>\n",
       "      <th>Accuracy</th>\n",
       "    </tr>\n",
       "  </thead>\n",
       "  <tbody>\n",
       "    <tr>\n",
       "      <th>0</th>\n",
       "      <td>Stats_Log_Reg</td>\n",
       "      <td>0.778883</td>\n",
       "      <td>0.758333</td>\n",
       "    </tr>\n",
       "    <tr>\n",
       "      <th>1</th>\n",
       "      <td>ML_Log_reg</td>\n",
       "      <td>0.739362</td>\n",
       "      <td>0.812500</td>\n",
       "    </tr>\n",
       "    <tr>\n",
       "      <th>2</th>\n",
       "      <td>DTree</td>\n",
       "      <td>0.711489</td>\n",
       "      <td>0.763889</td>\n",
       "    </tr>\n",
       "    <tr>\n",
       "      <th>3</th>\n",
       "      <td>RForest</td>\n",
       "      <td>0.742128</td>\n",
       "      <td>0.791667</td>\n",
       "    </tr>\n",
       "    <tr>\n",
       "      <th>4</th>\n",
       "      <td>GBoost</td>\n",
       "      <td>0.747447</td>\n",
       "      <td>0.798611</td>\n",
       "    </tr>\n",
       "    <tr>\n",
       "      <th>5</th>\n",
       "      <td>XGBoost</td>\n",
       "      <td>0.712128</td>\n",
       "      <td>0.770833</td>\n",
       "    </tr>\n",
       "  </tbody>\n",
       "</table>\n",
       "</div>"
      ],
      "text/plain": [
       "           Model  AUC_score  Accuracy\n",
       "0  Stats_Log_Reg   0.778883  0.758333\n",
       "1     ML_Log_reg   0.739362  0.812500\n",
       "2          DTree   0.711489  0.763889\n",
       "3        RForest   0.742128  0.791667\n",
       "4         GBoost   0.747447  0.798611\n",
       "5        XGBoost   0.712128  0.770833"
      ]
     },
     "execution_count": 146,
     "metadata": {},
     "output_type": "execute_result"
    }
   ],
   "source": [
    "# Looking at outcoems for all different models.\n",
    "comp = {\n",
    "    'Model' : Model,\n",
    "    'AUC_score' : AUC_score,\n",
    "    'Accuracy' : Accuracy\n",
    "}\n",
    "pd.DataFrame(comp)"
   ]
  },
  {
   "cell_type": "code",
   "execution_count": null,
   "id": "e7682750",
   "metadata": {},
   "outputs": [],
   "source": []
  },
  {
   "cell_type": "markdown",
   "id": "c2721fd2",
   "metadata": {},
   "source": [
    "## Working on the new dataset"
   ]
  },
  {
   "cell_type": "code",
   "execution_count": 147,
   "id": "08a8f935",
   "metadata": {},
   "outputs": [
    {
     "name": "stdout",
     "output_type": "stream",
     "text": [
      "(367, 13)\n"
     ]
    },
    {
     "data": {
      "text/html": [
       "<div>\n",
       "<style scoped>\n",
       "    .dataframe tbody tr th:only-of-type {\n",
       "        vertical-align: middle;\n",
       "    }\n",
       "\n",
       "    .dataframe tbody tr th {\n",
       "        vertical-align: top;\n",
       "    }\n",
       "\n",
       "    .dataframe thead th {\n",
       "        text-align: right;\n",
       "    }\n",
       "</style>\n",
       "<table border=\"1\" class=\"dataframe\">\n",
       "  <thead>\n",
       "    <tr style=\"text-align: right;\">\n",
       "      <th></th>\n",
       "      <th>Loan_ID</th>\n",
       "      <th>Gender</th>\n",
       "      <th>Married</th>\n",
       "      <th>Dependents</th>\n",
       "      <th>Education</th>\n",
       "      <th>Self_Employed</th>\n",
       "      <th>ApplicantIncome</th>\n",
       "      <th>CoapplicantIncome</th>\n",
       "      <th>LoanAmount</th>\n",
       "      <th>Loan_Amount_Term</th>\n",
       "      <th>Credit_History</th>\n",
       "      <th>Property_Area</th>\n",
       "      <th>DateOfBirth</th>\n",
       "    </tr>\n",
       "  </thead>\n",
       "  <tbody>\n",
       "    <tr>\n",
       "      <th>0</th>\n",
       "      <td>HF001015</td>\n",
       "      <td>Male</td>\n",
       "      <td>Yes</td>\n",
       "      <td>0</td>\n",
       "      <td>Graduate</td>\n",
       "      <td>No</td>\n",
       "      <td>5720</td>\n",
       "      <td>0</td>\n",
       "      <td>110.0</td>\n",
       "      <td>360.0</td>\n",
       "      <td>1.0</td>\n",
       "      <td>Urban</td>\n",
       "      <td>15-Jun-1992</td>\n",
       "    </tr>\n",
       "    <tr>\n",
       "      <th>1</th>\n",
       "      <td>HF001022</td>\n",
       "      <td>Male</td>\n",
       "      <td>Yes</td>\n",
       "      <td>1</td>\n",
       "      <td>Graduate</td>\n",
       "      <td>No</td>\n",
       "      <td>3076</td>\n",
       "      <td>1500</td>\n",
       "      <td>126.0</td>\n",
       "      <td>360.0</td>\n",
       "      <td>1.0</td>\n",
       "      <td>Urban</td>\n",
       "      <td>28-Sep-1993</td>\n",
       "    </tr>\n",
       "    <tr>\n",
       "      <th>2</th>\n",
       "      <td>HF001031</td>\n",
       "      <td>Male</td>\n",
       "      <td>Yes</td>\n",
       "      <td>2</td>\n",
       "      <td>Graduate</td>\n",
       "      <td>No</td>\n",
       "      <td>5000</td>\n",
       "      <td>1800</td>\n",
       "      <td>208.0</td>\n",
       "      <td>360.0</td>\n",
       "      <td>1.0</td>\n",
       "      <td>Urban</td>\n",
       "      <td>25-Nov-1991</td>\n",
       "    </tr>\n",
       "    <tr>\n",
       "      <th>3</th>\n",
       "      <td>HF001035</td>\n",
       "      <td>Male</td>\n",
       "      <td>Yes</td>\n",
       "      <td>2</td>\n",
       "      <td>Graduate</td>\n",
       "      <td>No</td>\n",
       "      <td>2340</td>\n",
       "      <td>2546</td>\n",
       "      <td>100.0</td>\n",
       "      <td>360.0</td>\n",
       "      <td>NaN</td>\n",
       "      <td>Urban</td>\n",
       "      <td>03-Jun-1984</td>\n",
       "    </tr>\n",
       "    <tr>\n",
       "      <th>4</th>\n",
       "      <td>HF001051</td>\n",
       "      <td>Male</td>\n",
       "      <td>No</td>\n",
       "      <td>0</td>\n",
       "      <td>Not Graduate</td>\n",
       "      <td>No</td>\n",
       "      <td>3276</td>\n",
       "      <td>0</td>\n",
       "      <td>78.0</td>\n",
       "      <td>360.0</td>\n",
       "      <td>1.0</td>\n",
       "      <td>Urban</td>\n",
       "      <td>22-Mar-1982</td>\n",
       "    </tr>\n",
       "  </tbody>\n",
       "</table>\n",
       "</div>"
      ],
      "text/plain": [
       "    Loan_ID Gender Married Dependents     Education Self_Employed  \\\n",
       "0  HF001015   Male     Yes          0      Graduate            No   \n",
       "1  HF001022   Male     Yes          1      Graduate            No   \n",
       "2  HF001031   Male     Yes          2      Graduate            No   \n",
       "3  HF001035   Male     Yes          2      Graduate            No   \n",
       "4  HF001051   Male      No          0  Not Graduate            No   \n",
       "\n",
       "   ApplicantIncome  CoapplicantIncome  LoanAmount  Loan_Amount_Term  \\\n",
       "0             5720                  0       110.0             360.0   \n",
       "1             3076               1500       126.0             360.0   \n",
       "2             5000               1800       208.0             360.0   \n",
       "3             2340               2546       100.0             360.0   \n",
       "4             3276                  0        78.0             360.0   \n",
       "\n",
       "   Credit_History Property_Area  DateOfBirth  \n",
       "0             1.0         Urban  15-Jun-1992  \n",
       "1             1.0         Urban  28-Sep-1993  \n",
       "2             1.0         Urban  25-Nov-1991  \n",
       "3             NaN         Urban  03-Jun-1984  \n",
       "4             1.0         Urban  22-Mar-1982  "
      ]
     },
     "execution_count": 147,
     "metadata": {},
     "output_type": "execute_result"
    }
   ],
   "source": [
    "data1 = pd.read_csv(\"data 1.csv\")\n",
    "print(data1.shape)\n",
    "data1.head()"
   ]
  },
  {
   "cell_type": "code",
   "execution_count": 148,
   "id": "a7f15d3f",
   "metadata": {},
   "outputs": [],
   "source": [
    "data1.drop(['Loan_ID'], axis = 1, inplace = True)"
   ]
  },
  {
   "cell_type": "code",
   "execution_count": 149,
   "id": "b90a3ed5",
   "metadata": {},
   "outputs": [],
   "source": [
    "cont_data1 = data1[['ApplicantIncome', 'CoapplicantIncome', 'DateOfBirth', 'LoanAmount', 'Loan_Amount_Term']]\n",
    "# cont_data1"
   ]
  },
  {
   "cell_type": "code",
   "execution_count": 150,
   "id": "7e0aec03",
   "metadata": {},
   "outputs": [],
   "source": [
    "def converter(date):\n",
    "    return dt.now().year - dt.strptime(date, \"%d-%b-%Y\").year"
   ]
  },
  {
   "cell_type": "code",
   "execution_count": 151,
   "id": "8de536d7",
   "metadata": {},
   "outputs": [],
   "source": [
    "cont_data1.DateOfBirth = cont_data1.DateOfBirth.apply(converter)"
   ]
  },
  {
   "cell_type": "code",
   "execution_count": 152,
   "id": "527ecaea",
   "metadata": {},
   "outputs": [],
   "source": [
    "def outlierTreat(x):\n",
    "    upper = x.quantile(.75) + 1.5 * (x.quantile(.75) - x.quantile(.25)) \n",
    "    lower = x.quantile(.25) - 1.5 * (x.quantile(.75) - x.quantile(.25))\n",
    "    return x.clip(lower, upper)"
   ]
  },
  {
   "cell_type": "code",
   "execution_count": 153,
   "id": "d4084200",
   "metadata": {},
   "outputs": [],
   "source": [
    "out_vars = [\"ApplicantIncome\", \"CoapplicantIncome\"]"
   ]
  },
  {
   "cell_type": "code",
   "execution_count": 154,
   "id": "ee69ca10",
   "metadata": {
    "scrolled": false
   },
   "outputs": [],
   "source": [
    "cont_data1.loc[:, out_vars] = cont_data1.loc[:, out_vars].apply(outlierTreat)\n",
    "# cont_data1.loc[:, out_vars]"
   ]
  },
  {
   "cell_type": "code",
   "execution_count": 155,
   "id": "dbb17c52",
   "metadata": {},
   "outputs": [],
   "source": [
    "cont_data1 = cont_data1.dropna()"
   ]
  },
  {
   "cell_type": "code",
   "execution_count": 156,
   "id": "83018251",
   "metadata": {},
   "outputs": [],
   "source": [
    "cat_vars1 = data1[['Credit_History', 'Dependents', 'Education', 'Gender', 'Married', 'Property_Area', 'Self_Employed']]\n",
    "# cat_vars1"
   ]
  },
  {
   "cell_type": "code",
   "execution_count": 157,
   "id": "8f676835",
   "metadata": {},
   "outputs": [],
   "source": [
    "cat_vars1.Dependents = np.where(cat_vars1.Dependents == '3+', '3_or_more', cat_vars1.Dependents)\n",
    "\n",
    "cat_vars1.Education = np.where(cat_vars1.Education == 'Not Graduate', 'Not_Graduate', cat_vars1.Education)"
   ]
  },
  {
   "cell_type": "code",
   "execution_count": 158,
   "id": "683e07fa",
   "metadata": {},
   "outputs": [],
   "source": [
    "cat_vars1 = cat_vars1.dropna()"
   ]
  },
  {
   "cell_type": "code",
   "execution_count": 159,
   "id": "66aaf7bb",
   "metadata": {},
   "outputs": [],
   "source": [
    "# Changing dtype of necessary variable/s.\n",
    "cat_vars1.Credit_History = cat_vars1.Credit_History.astype('int64')"
   ]
  },
  {
   "cell_type": "code",
   "execution_count": 160,
   "id": "afb741e8",
   "metadata": {},
   "outputs": [],
   "source": [
    "cat_data1 = cat_vars1.copy()"
   ]
  },
  {
   "cell_type": "code",
   "execution_count": 161,
   "id": "e4d82851",
   "metadata": {
    "scrolled": true
   },
   "outputs": [],
   "source": [
    "cat_data1 = pd.get_dummies(cat_data1, drop_first = True)"
   ]
  },
  {
   "cell_type": "code",
   "execution_count": 162,
   "id": "38f44bcf",
   "metadata": {},
   "outputs": [],
   "source": [
    "cont_data1.reset_index(inplace = True)\n",
    "cat_data1.reset_index(inplace = True)"
   ]
  },
  {
   "cell_type": "code",
   "execution_count": 163,
   "id": "ec341b41",
   "metadata": {},
   "outputs": [
    {
     "data": {
      "text/plain": [
       "(289, 15)"
      ]
     },
     "execution_count": 163,
     "metadata": {},
     "output_type": "execute_result"
    }
   ],
   "source": [
    "# Combining Numerical and Categorical data.\n",
    "final_data = pd.merge(cont_data1, cat_data1, on = 'index')\n",
    "final_data.drop('index', inplace = True, axis = 1)\n",
    "final_data.shape"
   ]
  },
  {
   "cell_type": "code",
   "execution_count": 164,
   "id": "cb56a6f9",
   "metadata": {},
   "outputs": [
    {
     "data": {
      "text/html": [
       "<div>\n",
       "<style scoped>\n",
       "    .dataframe tbody tr th:only-of-type {\n",
       "        vertical-align: middle;\n",
       "    }\n",
       "\n",
       "    .dataframe tbody tr th {\n",
       "        vertical-align: top;\n",
       "    }\n",
       "\n",
       "    .dataframe thead th {\n",
       "        text-align: right;\n",
       "    }\n",
       "</style>\n",
       "<table border=\"1\" class=\"dataframe\">\n",
       "  <thead>\n",
       "    <tr style=\"text-align: right;\">\n",
       "      <th></th>\n",
       "      <th>ApplicantIncome</th>\n",
       "      <th>CoapplicantIncome</th>\n",
       "      <th>DateOfBirth</th>\n",
       "      <th>LoanAmount</th>\n",
       "      <th>Loan_Amount_Term</th>\n",
       "      <th>Credit_History</th>\n",
       "      <th>Dependents_1</th>\n",
       "      <th>Dependents_2</th>\n",
       "      <th>Dependents_3_or_more</th>\n",
       "      <th>Education_Not_Graduate</th>\n",
       "      <th>Gender_Male</th>\n",
       "      <th>Married_Yes</th>\n",
       "      <th>Property_Area_Semiurban</th>\n",
       "      <th>Property_Area_Urban</th>\n",
       "      <th>Self_Employed_Yes</th>\n",
       "    </tr>\n",
       "  </thead>\n",
       "  <tbody>\n",
       "    <tr>\n",
       "      <th>0</th>\n",
       "      <td>5720.0</td>\n",
       "      <td>0.0</td>\n",
       "      <td>30</td>\n",
       "      <td>110.0</td>\n",
       "      <td>360.0</td>\n",
       "      <td>1</td>\n",
       "      <td>0</td>\n",
       "      <td>0</td>\n",
       "      <td>0</td>\n",
       "      <td>0</td>\n",
       "      <td>1</td>\n",
       "      <td>1</td>\n",
       "      <td>0</td>\n",
       "      <td>1</td>\n",
       "      <td>0</td>\n",
       "    </tr>\n",
       "    <tr>\n",
       "      <th>1</th>\n",
       "      <td>3076.0</td>\n",
       "      <td>1500.0</td>\n",
       "      <td>29</td>\n",
       "      <td>126.0</td>\n",
       "      <td>360.0</td>\n",
       "      <td>1</td>\n",
       "      <td>1</td>\n",
       "      <td>0</td>\n",
       "      <td>0</td>\n",
       "      <td>0</td>\n",
       "      <td>1</td>\n",
       "      <td>1</td>\n",
       "      <td>0</td>\n",
       "      <td>1</td>\n",
       "      <td>0</td>\n",
       "    </tr>\n",
       "    <tr>\n",
       "      <th>2</th>\n",
       "      <td>5000.0</td>\n",
       "      <td>1800.0</td>\n",
       "      <td>31</td>\n",
       "      <td>208.0</td>\n",
       "      <td>360.0</td>\n",
       "      <td>1</td>\n",
       "      <td>0</td>\n",
       "      <td>1</td>\n",
       "      <td>0</td>\n",
       "      <td>0</td>\n",
       "      <td>1</td>\n",
       "      <td>1</td>\n",
       "      <td>0</td>\n",
       "      <td>1</td>\n",
       "      <td>0</td>\n",
       "    </tr>\n",
       "    <tr>\n",
       "      <th>3</th>\n",
       "      <td>3276.0</td>\n",
       "      <td>0.0</td>\n",
       "      <td>40</td>\n",
       "      <td>78.0</td>\n",
       "      <td>360.0</td>\n",
       "      <td>1</td>\n",
       "      <td>0</td>\n",
       "      <td>0</td>\n",
       "      <td>0</td>\n",
       "      <td>1</td>\n",
       "      <td>1</td>\n",
       "      <td>0</td>\n",
       "      <td>0</td>\n",
       "      <td>1</td>\n",
       "      <td>0</td>\n",
       "    </tr>\n",
       "    <tr>\n",
       "      <th>4</th>\n",
       "      <td>2165.0</td>\n",
       "      <td>3422.0</td>\n",
       "      <td>35</td>\n",
       "      <td>152.0</td>\n",
       "      <td>360.0</td>\n",
       "      <td>1</td>\n",
       "      <td>0</td>\n",
       "      <td>0</td>\n",
       "      <td>0</td>\n",
       "      <td>1</td>\n",
       "      <td>1</td>\n",
       "      <td>1</td>\n",
       "      <td>0</td>\n",
       "      <td>1</td>\n",
       "      <td>1</td>\n",
       "    </tr>\n",
       "  </tbody>\n",
       "</table>\n",
       "</div>"
      ],
      "text/plain": [
       "   ApplicantIncome  CoapplicantIncome  DateOfBirth  LoanAmount  \\\n",
       "0           5720.0                0.0           30       110.0   \n",
       "1           3076.0             1500.0           29       126.0   \n",
       "2           5000.0             1800.0           31       208.0   \n",
       "3           3276.0                0.0           40        78.0   \n",
       "4           2165.0             3422.0           35       152.0   \n",
       "\n",
       "   Loan_Amount_Term  Credit_History  Dependents_1  Dependents_2  \\\n",
       "0             360.0               1             0             0   \n",
       "1             360.0               1             1             0   \n",
       "2             360.0               1             0             1   \n",
       "3             360.0               1             0             0   \n",
       "4             360.0               1             0             0   \n",
       "\n",
       "   Dependents_3_or_more  Education_Not_Graduate  Gender_Male  Married_Yes  \\\n",
       "0                     0                       0            1            1   \n",
       "1                     0                       0            1            1   \n",
       "2                     0                       0            1            1   \n",
       "3                     0                       1            1            0   \n",
       "4                     0                       1            1            1   \n",
       "\n",
       "   Property_Area_Semiurban  Property_Area_Urban  Self_Employed_Yes  \n",
       "0                        0                    1                  0  \n",
       "1                        0                    1                  0  \n",
       "2                        0                    1                  0  \n",
       "3                        0                    1                  0  \n",
       "4                        0                    1                  1  "
      ]
     },
     "execution_count": 164,
     "metadata": {},
     "output_type": "execute_result"
    }
   ],
   "source": [
    "final_data.head()"
   ]
  },
  {
   "cell_type": "code",
   "execution_count": 165,
   "id": "e6718575",
   "metadata": {},
   "outputs": [
    {
     "data": {
      "text/plain": [
       "array([1, 1, 0, 0, 0, 0, 0, 0, 0, 0, 0, 0, 0, 0, 0, 1, 0, 0, 0, 0, 1, 0,\n",
       "       0, 1, 0, 1, 1, 0, 1, 0, 0, 1, 0, 0, 0, 0, 0, 0, 1, 0, 1, 1, 0, 0,\n",
       "       0, 0, 0, 0, 1, 0, 0, 1, 0, 0, 0, 0, 0, 0, 1, 0, 0, 1, 0, 1, 1, 1,\n",
       "       0, 1, 0, 0, 1, 0, 0, 1, 0, 0, 0, 0, 0, 0, 1, 0, 1, 0, 0, 1, 0, 1,\n",
       "       0, 0, 0, 0, 0, 0, 0, 0, 1, 1, 0, 0, 0, 0, 1, 0, 1, 0, 1, 0, 0, 1,\n",
       "       0, 0, 0, 1, 1, 0, 0, 0, 0, 0, 0, 1, 0, 1, 0, 0, 0, 0, 0, 1, 0, 0,\n",
       "       0, 0, 0, 1, 1, 0, 0, 1, 0, 1, 0, 0, 0, 0, 0, 1, 0, 0, 1, 1, 0, 1,\n",
       "       0, 0, 0, 1, 0, 1, 1, 1, 0, 0, 0, 0, 0, 0, 0, 0, 0, 0, 1, 0, 1, 1,\n",
       "       1, 1, 0, 0, 0, 0, 1, 1, 0, 1, 0, 1, 0, 1, 0, 0, 0, 0, 0, 0, 0, 0,\n",
       "       0, 0, 0, 0, 1, 0, 0, 1, 1, 0, 1, 0, 0, 1, 0, 1, 0, 1, 0, 0, 0, 0,\n",
       "       0, 0, 0, 0, 0, 1, 0, 0, 0, 0, 0, 0, 1, 0, 0, 0, 1, 0, 1, 0, 1, 0,\n",
       "       0, 0, 0, 0, 0, 1, 0, 0, 1, 0, 1, 1, 0, 0, 1, 1, 1, 1, 0, 0, 0, 1,\n",
       "       1, 0, 0, 0, 1, 1, 0, 1, 1, 0, 0, 1, 1, 1, 1, 0, 1, 1, 0, 0, 0, 1,\n",
       "       1, 1, 0])"
      ]
     },
     "execution_count": 165,
     "metadata": {},
     "output_type": "execute_result"
    }
   ],
   "source": [
    "# final_data.loc[:, rfe.support_]\n",
    "results = xgb_clf.predict(final_data.loc[:, rfe.support_])\n",
    "results"
   ]
  },
  {
   "cell_type": "code",
   "execution_count": 166,
   "id": "c66bded7",
   "metadata": {},
   "outputs": [
    {
     "data": {
      "text/html": [
       "<div>\n",
       "<style scoped>\n",
       "    .dataframe tbody tr th:only-of-type {\n",
       "        vertical-align: middle;\n",
       "    }\n",
       "\n",
       "    .dataframe tbody tr th {\n",
       "        vertical-align: top;\n",
       "    }\n",
       "\n",
       "    .dataframe thead th {\n",
       "        text-align: right;\n",
       "    }\n",
       "</style>\n",
       "<table border=\"1\" class=\"dataframe\">\n",
       "  <thead>\n",
       "    <tr style=\"text-align: right;\">\n",
       "      <th></th>\n",
       "      <th>ApplicantIncome</th>\n",
       "      <th>CoapplicantIncome</th>\n",
       "      <th>DateOfBirth</th>\n",
       "      <th>LoanAmount</th>\n",
       "      <th>Loan_Amount_Term</th>\n",
       "      <th>Credit_History</th>\n",
       "      <th>Dependents_1</th>\n",
       "      <th>Dependents_2</th>\n",
       "      <th>Dependents_3_or_more</th>\n",
       "      <th>Education_Not_Graduate</th>\n",
       "      <th>Gender_Male</th>\n",
       "      <th>Married_Yes</th>\n",
       "      <th>Property_Area_Semiurban</th>\n",
       "      <th>Property_Area_Urban</th>\n",
       "      <th>Self_Employed_Yes</th>\n",
       "      <th>Loan_Approval</th>\n",
       "    </tr>\n",
       "  </thead>\n",
       "  <tbody>\n",
       "    <tr>\n",
       "      <th>0</th>\n",
       "      <td>5720.0</td>\n",
       "      <td>0.0</td>\n",
       "      <td>30</td>\n",
       "      <td>110.0</td>\n",
       "      <td>360.0</td>\n",
       "      <td>1</td>\n",
       "      <td>0</td>\n",
       "      <td>0</td>\n",
       "      <td>0</td>\n",
       "      <td>0</td>\n",
       "      <td>1</td>\n",
       "      <td>1</td>\n",
       "      <td>0</td>\n",
       "      <td>1</td>\n",
       "      <td>0</td>\n",
       "      <td>1</td>\n",
       "    </tr>\n",
       "    <tr>\n",
       "      <th>1</th>\n",
       "      <td>3076.0</td>\n",
       "      <td>1500.0</td>\n",
       "      <td>29</td>\n",
       "      <td>126.0</td>\n",
       "      <td>360.0</td>\n",
       "      <td>1</td>\n",
       "      <td>1</td>\n",
       "      <td>0</td>\n",
       "      <td>0</td>\n",
       "      <td>0</td>\n",
       "      <td>1</td>\n",
       "      <td>1</td>\n",
       "      <td>0</td>\n",
       "      <td>1</td>\n",
       "      <td>0</td>\n",
       "      <td>1</td>\n",
       "    </tr>\n",
       "    <tr>\n",
       "      <th>2</th>\n",
       "      <td>5000.0</td>\n",
       "      <td>1800.0</td>\n",
       "      <td>31</td>\n",
       "      <td>208.0</td>\n",
       "      <td>360.0</td>\n",
       "      <td>1</td>\n",
       "      <td>0</td>\n",
       "      <td>1</td>\n",
       "      <td>0</td>\n",
       "      <td>0</td>\n",
       "      <td>1</td>\n",
       "      <td>1</td>\n",
       "      <td>0</td>\n",
       "      <td>1</td>\n",
       "      <td>0</td>\n",
       "      <td>0</td>\n",
       "    </tr>\n",
       "    <tr>\n",
       "      <th>3</th>\n",
       "      <td>3276.0</td>\n",
       "      <td>0.0</td>\n",
       "      <td>40</td>\n",
       "      <td>78.0</td>\n",
       "      <td>360.0</td>\n",
       "      <td>1</td>\n",
       "      <td>0</td>\n",
       "      <td>0</td>\n",
       "      <td>0</td>\n",
       "      <td>1</td>\n",
       "      <td>1</td>\n",
       "      <td>0</td>\n",
       "      <td>0</td>\n",
       "      <td>1</td>\n",
       "      <td>0</td>\n",
       "      <td>0</td>\n",
       "    </tr>\n",
       "    <tr>\n",
       "      <th>4</th>\n",
       "      <td>2165.0</td>\n",
       "      <td>3422.0</td>\n",
       "      <td>35</td>\n",
       "      <td>152.0</td>\n",
       "      <td>360.0</td>\n",
       "      <td>1</td>\n",
       "      <td>0</td>\n",
       "      <td>0</td>\n",
       "      <td>0</td>\n",
       "      <td>1</td>\n",
       "      <td>1</td>\n",
       "      <td>1</td>\n",
       "      <td>0</td>\n",
       "      <td>1</td>\n",
       "      <td>1</td>\n",
       "      <td>0</td>\n",
       "    </tr>\n",
       "  </tbody>\n",
       "</table>\n",
       "</div>"
      ],
      "text/plain": [
       "   ApplicantIncome  CoapplicantIncome  DateOfBirth  LoanAmount  \\\n",
       "0           5720.0                0.0           30       110.0   \n",
       "1           3076.0             1500.0           29       126.0   \n",
       "2           5000.0             1800.0           31       208.0   \n",
       "3           3276.0                0.0           40        78.0   \n",
       "4           2165.0             3422.0           35       152.0   \n",
       "\n",
       "   Loan_Amount_Term  Credit_History  Dependents_1  Dependents_2  \\\n",
       "0             360.0               1             0             0   \n",
       "1             360.0               1             1             0   \n",
       "2             360.0               1             0             1   \n",
       "3             360.0               1             0             0   \n",
       "4             360.0               1             0             0   \n",
       "\n",
       "   Dependents_3_or_more  Education_Not_Graduate  Gender_Male  Married_Yes  \\\n",
       "0                     0                       0            1            1   \n",
       "1                     0                       0            1            1   \n",
       "2                     0                       0            1            1   \n",
       "3                     0                       1            1            0   \n",
       "4                     0                       1            1            1   \n",
       "\n",
       "   Property_Area_Semiurban  Property_Area_Urban  Self_Employed_Yes  \\\n",
       "0                        0                    1                  0   \n",
       "1                        0                    1                  0   \n",
       "2                        0                    1                  0   \n",
       "3                        0                    1                  0   \n",
       "4                        0                    1                  1   \n",
       "\n",
       "   Loan_Approval  \n",
       "0              1  \n",
       "1              1  \n",
       "2              0  \n",
       "3              0  \n",
       "4              0  "
      ]
     },
     "execution_count": 166,
     "metadata": {},
     "output_type": "execute_result"
    }
   ],
   "source": [
    "# Merging the results with the data set.\n",
    "final_data['Loan_Approval'] = results\n",
    "final_data.head()"
   ]
  },
  {
   "cell_type": "markdown",
   "id": "c67bf2d3",
   "metadata": {},
   "source": [
    "# Have A Great Day."
   ]
  },
  {
   "cell_type": "markdown",
   "id": "3b6620dd",
   "metadata": {},
   "source": [
    "# EOF"
   ]
  },
  {
   "cell_type": "markdown",
   "id": "8eaa6288",
   "metadata": {},
   "source": [
    "#  ------Coming Soon------"
   ]
  },
  {
   "cell_type": "markdown",
   "id": "6909ea7d",
   "metadata": {},
   "source": [
    "1. Proper missing values treatment.\n",
    "2. In depth insight of data using different charts."
   ]
  }
 ],
 "metadata": {
  "kernelspec": {
   "display_name": "Python 3 (ipykernel)",
   "language": "python",
   "name": "python3"
  },
  "language_info": {
   "codemirror_mode": {
    "name": "ipython",
    "version": 3
   },
   "file_extension": ".py",
   "mimetype": "text/x-python",
   "name": "python",
   "nbconvert_exporter": "python",
   "pygments_lexer": "ipython3",
   "version": "3.9.7"
  }
 },
 "nbformat": 4,
 "nbformat_minor": 5
}
